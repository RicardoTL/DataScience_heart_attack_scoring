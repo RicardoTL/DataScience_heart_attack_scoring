{
 "cells": [
  {
   "cell_type": "markdown",
   "id": "ba4198a0-12cc-4d29-968d-5024b1668b40",
   "metadata": {},
   "source": [
    "<h2 style=\"color:#00aaa3; font-family: 'Impact'; text-align: center; font-size: 36px;\">\n",
    "🫀 Heart Attack Scoring 🫀\n",
    "</h2>"
   ]
  },
  {
   "cell_type": "markdown",
   "id": "d85dbcee-762a-43a4-b8d1-3bd4b6e6cc53",
   "metadata": {},
   "source": [
    "**Maqueta aplicación: appheartattack-hsp7zc4eqdkqzecy9ga2ez.streamlit.app**\n",
    "\n",
    "(Se trata de una aplicación que ejemplifica la capacidad del modelo a nivel de negocio)"
   ]
  },
  {
   "cell_type": "markdown",
   "id": "88094b04",
   "metadata": {
    "jp-MarkdownHeadingCollapsed": true
   },
   "source": [
    "# ⚙️ SET UP"
   ]
  },
  {
   "cell_type": "markdown",
   "id": "2cc6b0de",
   "metadata": {
    "jp-MarkdownHeadingCollapsed": true
   },
   "source": [
    "## CREAR EL ENTORNO PARA EL PROYECTO"
   ]
  },
  {
   "cell_type": "markdown",
   "id": "ec2c52fc",
   "metadata": {},
   "source": [
    "New enviroment: heart_v0.yml"
   ]
  },
  {
   "cell_type": "markdown",
   "id": "234469e4",
   "metadata": {},
   "source": [
    "## IMPORTAR PAQUETES"
   ]
  },
  {
   "cell_type": "code",
   "execution_count": 4,
   "id": "18dab684",
   "metadata": {},
   "outputs": [],
   "source": [
    "import os\n",
    "import numpy as np\n",
    "import pandas as pd\n",
    "\n",
    "#Automcompletar rápido\n",
    "%config IPCompleter.greedy=True"
   ]
  },
  {
   "cell_type": "markdown",
   "id": "aa2291ac",
   "metadata": {},
   "source": [
    "## CREAR EL DIRECTORIO DEL PROYECTO"
   ]
  },
  {
   "cell_type": "code",
   "execution_count": 3,
   "id": "f574f873-51be-408c-aea9-0c856bac71a8",
   "metadata": {},
   "outputs": [
    {
     "name": "stdout",
     "output_type": "stream",
     "text": [
      "No se pudo crear el directorio C:/Users/Ricardo/Desktop/Portfolio/Heart: [WinError 183] No se puede crear un archivo que ya existe: 'C:/Users/Ricardo/Desktop/Portfolio/Heart'\n",
      "No se pudo crear uno o más subdirectorios: [WinError 183] No se puede crear un archivo que ya existe: 'C:/Users/Ricardo/Desktop/Portfolio/Heart/01_Documentos'\n"
     ]
    }
   ],
   "source": [
    "import os\n",
    "\n",
    "path = 'C:/Users/Ricardo/Desktop/Portfolio/Heart'\n",
    "\n",
    "try:\n",
    "    os.mkdir(path)\n",
    "    print(\"Se ha creado satisfactoriamente el directorio %s\" % path)\n",
    "except OSError as e:\n",
    "    print(f\"No se pudo crear el directorio {path}: {e}\")\n",
    "\n",
    "try:\n",
    "    os.mkdir(path + '/01_Documentos')\n",
    "    os.mkdir(path + '/02_Datos')\n",
    "    os.mkdir(path + '/02_Datos/01_Originales')\n",
    "    os.mkdir(path + '/02_Datos/02_Validacion')\n",
    "    os.mkdir(path + '/02_Datos/03_Trabajo')\n",
    "    os.mkdir(path + '/02_Datos/04_Caches')\n",
    "    os.mkdir(path + '/03_Notebooks')\n",
    "    os.mkdir(path + '/03_Notebooks/01_Funciones')\n",
    "    os.mkdir(path + '/03_Notebooks/02_Desarrollo')\n",
    "    os.mkdir(path + '/03_Notebooks/03_Sistema')\n",
    "    os.mkdir(path + '/04_Modelos')\n",
    "    os.mkdir(path + '/05_Resultados')\n",
    "    os.mkdir(path + '/09_Otros')\n",
    "    print(\"Se han creado satisfactoriamente los subdirectorios\")\n",
    "except OSError as e:\n",
    "    print(f\"No se pudo crear uno o más subdirectorios: {e}\")\n"
   ]
  },
  {
   "cell_type": "markdown",
   "id": "fbdda974",
   "metadata": {},
   "source": [
    "### Situar el directorio de trabajo en el proyecto"
   ]
  },
  {
   "cell_type": "code",
   "execution_count": 4,
   "id": "6cf7027a",
   "metadata": {},
   "outputs": [],
   "source": [
    "os.chdir(path)"
   ]
  },
  {
   "cell_type": "markdown",
   "id": "eaae5ba8",
   "metadata": {},
   "source": [
    "## CREAR LOS DATASETS INICIALES"
   ]
  },
  {
   "cell_type": "markdown",
   "id": "7e6b4179",
   "metadata": {},
   "source": [
    "### Importar los datos"
   ]
  },
  {
   "cell_type": "code",
   "execution_count": 16,
   "id": "a046f97b-bae8-4361-9aef-2f99c37360b9",
   "metadata": {},
   "outputs": [
    {
     "data": {
      "text/html": [
       "<div>\n",
       "<style scoped>\n",
       "    .dataframe tbody tr th:only-of-type {\n",
       "        vertical-align: middle;\n",
       "    }\n",
       "\n",
       "    .dataframe tbody tr th {\n",
       "        vertical-align: top;\n",
       "    }\n",
       "\n",
       "    .dataframe thead th {\n",
       "        text-align: right;\n",
       "    }\n",
       "</style>\n",
       "<table border=\"1\" class=\"dataframe\">\n",
       "  <thead>\n",
       "    <tr style=\"text-align: right;\">\n",
       "      <th></th>\n",
       "      <th>age</th>\n",
       "      <th>sex</th>\n",
       "      <th>cp</th>\n",
       "      <th>trtbps</th>\n",
       "      <th>chol</th>\n",
       "      <th>fbs</th>\n",
       "      <th>restecg</th>\n",
       "      <th>thalachh</th>\n",
       "      <th>exng</th>\n",
       "      <th>oldpeak</th>\n",
       "      <th>slp</th>\n",
       "      <th>caa</th>\n",
       "      <th>thall</th>\n",
       "      <th>output</th>\n",
       "    </tr>\n",
       "  </thead>\n",
       "  <tbody>\n",
       "    <tr>\n",
       "      <th>0</th>\n",
       "      <td>63</td>\n",
       "      <td>1</td>\n",
       "      <td>3</td>\n",
       "      <td>145</td>\n",
       "      <td>233</td>\n",
       "      <td>1</td>\n",
       "      <td>0</td>\n",
       "      <td>150</td>\n",
       "      <td>0</td>\n",
       "      <td>2.3</td>\n",
       "      <td>0</td>\n",
       "      <td>0</td>\n",
       "      <td>1</td>\n",
       "      <td>1</td>\n",
       "    </tr>\n",
       "    <tr>\n",
       "      <th>1</th>\n",
       "      <td>37</td>\n",
       "      <td>1</td>\n",
       "      <td>2</td>\n",
       "      <td>130</td>\n",
       "      <td>250</td>\n",
       "      <td>0</td>\n",
       "      <td>1</td>\n",
       "      <td>187</td>\n",
       "      <td>0</td>\n",
       "      <td>3.5</td>\n",
       "      <td>0</td>\n",
       "      <td>0</td>\n",
       "      <td>2</td>\n",
       "      <td>1</td>\n",
       "    </tr>\n",
       "    <tr>\n",
       "      <th>2</th>\n",
       "      <td>41</td>\n",
       "      <td>0</td>\n",
       "      <td>1</td>\n",
       "      <td>130</td>\n",
       "      <td>204</td>\n",
       "      <td>0</td>\n",
       "      <td>0</td>\n",
       "      <td>172</td>\n",
       "      <td>0</td>\n",
       "      <td>1.4</td>\n",
       "      <td>2</td>\n",
       "      <td>0</td>\n",
       "      <td>2</td>\n",
       "      <td>1</td>\n",
       "    </tr>\n",
       "    <tr>\n",
       "      <th>3</th>\n",
       "      <td>56</td>\n",
       "      <td>1</td>\n",
       "      <td>1</td>\n",
       "      <td>120</td>\n",
       "      <td>236</td>\n",
       "      <td>0</td>\n",
       "      <td>1</td>\n",
       "      <td>178</td>\n",
       "      <td>0</td>\n",
       "      <td>0.8</td>\n",
       "      <td>2</td>\n",
       "      <td>0</td>\n",
       "      <td>2</td>\n",
       "      <td>1</td>\n",
       "    </tr>\n",
       "    <tr>\n",
       "      <th>4</th>\n",
       "      <td>57</td>\n",
       "      <td>0</td>\n",
       "      <td>0</td>\n",
       "      <td>120</td>\n",
       "      <td>354</td>\n",
       "      <td>0</td>\n",
       "      <td>1</td>\n",
       "      <td>163</td>\n",
       "      <td>1</td>\n",
       "      <td>0.6</td>\n",
       "      <td>2</td>\n",
       "      <td>0</td>\n",
       "      <td>2</td>\n",
       "      <td>1</td>\n",
       "    </tr>\n",
       "    <tr>\n",
       "      <th>...</th>\n",
       "      <td>...</td>\n",
       "      <td>...</td>\n",
       "      <td>...</td>\n",
       "      <td>...</td>\n",
       "      <td>...</td>\n",
       "      <td>...</td>\n",
       "      <td>...</td>\n",
       "      <td>...</td>\n",
       "      <td>...</td>\n",
       "      <td>...</td>\n",
       "      <td>...</td>\n",
       "      <td>...</td>\n",
       "      <td>...</td>\n",
       "      <td>...</td>\n",
       "    </tr>\n",
       "    <tr>\n",
       "      <th>298</th>\n",
       "      <td>57</td>\n",
       "      <td>0</td>\n",
       "      <td>0</td>\n",
       "      <td>140</td>\n",
       "      <td>241</td>\n",
       "      <td>0</td>\n",
       "      <td>1</td>\n",
       "      <td>123</td>\n",
       "      <td>1</td>\n",
       "      <td>0.2</td>\n",
       "      <td>1</td>\n",
       "      <td>0</td>\n",
       "      <td>3</td>\n",
       "      <td>0</td>\n",
       "    </tr>\n",
       "    <tr>\n",
       "      <th>299</th>\n",
       "      <td>45</td>\n",
       "      <td>1</td>\n",
       "      <td>3</td>\n",
       "      <td>110</td>\n",
       "      <td>264</td>\n",
       "      <td>0</td>\n",
       "      <td>1</td>\n",
       "      <td>132</td>\n",
       "      <td>0</td>\n",
       "      <td>1.2</td>\n",
       "      <td>1</td>\n",
       "      <td>0</td>\n",
       "      <td>3</td>\n",
       "      <td>0</td>\n",
       "    </tr>\n",
       "    <tr>\n",
       "      <th>300</th>\n",
       "      <td>68</td>\n",
       "      <td>1</td>\n",
       "      <td>0</td>\n",
       "      <td>144</td>\n",
       "      <td>193</td>\n",
       "      <td>1</td>\n",
       "      <td>1</td>\n",
       "      <td>141</td>\n",
       "      <td>0</td>\n",
       "      <td>3.4</td>\n",
       "      <td>1</td>\n",
       "      <td>2</td>\n",
       "      <td>3</td>\n",
       "      <td>0</td>\n",
       "    </tr>\n",
       "    <tr>\n",
       "      <th>301</th>\n",
       "      <td>57</td>\n",
       "      <td>1</td>\n",
       "      <td>0</td>\n",
       "      <td>130</td>\n",
       "      <td>131</td>\n",
       "      <td>0</td>\n",
       "      <td>1</td>\n",
       "      <td>115</td>\n",
       "      <td>1</td>\n",
       "      <td>1.2</td>\n",
       "      <td>1</td>\n",
       "      <td>1</td>\n",
       "      <td>3</td>\n",
       "      <td>0</td>\n",
       "    </tr>\n",
       "    <tr>\n",
       "      <th>302</th>\n",
       "      <td>57</td>\n",
       "      <td>0</td>\n",
       "      <td>1</td>\n",
       "      <td>130</td>\n",
       "      <td>236</td>\n",
       "      <td>0</td>\n",
       "      <td>0</td>\n",
       "      <td>174</td>\n",
       "      <td>0</td>\n",
       "      <td>0.0</td>\n",
       "      <td>1</td>\n",
       "      <td>1</td>\n",
       "      <td>2</td>\n",
       "      <td>0</td>\n",
       "    </tr>\n",
       "  </tbody>\n",
       "</table>\n",
       "<p>303 rows × 14 columns</p>\n",
       "</div>"
      ],
      "text/plain": [
       "     age  sex  cp  trtbps  chol  fbs  restecg  thalachh  exng  oldpeak  slp  \\\n",
       "0     63    1   3     145   233    1        0       150     0      2.3    0   \n",
       "1     37    1   2     130   250    0        1       187     0      3.5    0   \n",
       "2     41    0   1     130   204    0        0       172     0      1.4    2   \n",
       "3     56    1   1     120   236    0        1       178     0      0.8    2   \n",
       "4     57    0   0     120   354    0        1       163     1      0.6    2   \n",
       "..   ...  ...  ..     ...   ...  ...      ...       ...   ...      ...  ...   \n",
       "298   57    0   0     140   241    0        1       123     1      0.2    1   \n",
       "299   45    1   3     110   264    0        1       132     0      1.2    1   \n",
       "300   68    1   0     144   193    1        1       141     0      3.4    1   \n",
       "301   57    1   0     130   131    0        1       115     1      1.2    1   \n",
       "302   57    0   1     130   236    0        0       174     0      0.0    1   \n",
       "\n",
       "     caa  thall  output  \n",
       "0      0      1       1  \n",
       "1      0      2       1  \n",
       "2      0      2       1  \n",
       "3      0      2       1  \n",
       "4      0      2       1  \n",
       "..   ...    ...     ...  \n",
       "298    0      3       0  \n",
       "299    0      3       0  \n",
       "300    2      3       0  \n",
       "301    1      3       0  \n",
       "302    1      2       0  \n",
       "\n",
       "[303 rows x 14 columns]"
      ]
     },
     "execution_count": 16,
     "metadata": {},
     "output_type": "execute_result"
    }
   ],
   "source": [
    "datos = pd.read_csv('C:/Users/Ricardo/Desktop/Portfolio/Heart/02_Datos/01_Originales/heart.csv')#,index_col=0)\n",
    "datos"
   ]
  },
  {
   "cell_type": "markdown",
   "id": "a4fedb2a",
   "metadata": {},
   "source": [
    "### Extraer y reservar el dataset de validación"
   ]
  },
  {
   "cell_type": "code",
   "execution_count": 30,
   "id": "05d2c9b5",
   "metadata": {},
   "outputs": [],
   "source": [
    "val= datos.sample(frac = 0.3)"
   ]
  },
  {
   "cell_type": "code",
   "execution_count": 31,
   "id": "db654eea",
   "metadata": {},
   "outputs": [],
   "source": [
    "val.to_csv('C:/Users/Ricardo/Desktop/Portfolio/Heart/02_Datos/02_Validacion/validacion.csv')"
   ]
  },
  {
   "cell_type": "code",
   "execution_count": 39,
   "id": "76b8cfb3-7fd5-48fe-8e3c-9c50644c75f6",
   "metadata": {},
   "outputs": [
    {
     "data": {
      "text/plain": [
       "(91, 14)"
      ]
     },
     "execution_count": 39,
     "metadata": {},
     "output_type": "execute_result"
    }
   ],
   "source": [
    "val.shape"
   ]
  },
  {
   "cell_type": "markdown",
   "id": "f84e120e",
   "metadata": {},
   "source": [
    "### Extraer y guardar el dataset de trabajo"
   ]
  },
  {
   "cell_type": "code",
   "execution_count": 33,
   "id": "e0ce153c",
   "metadata": {},
   "outputs": [],
   "source": [
    "trabajo = datos.loc[~datos.index.isin(val.index)]"
   ]
  },
  {
   "cell_type": "code",
   "execution_count": 34,
   "id": "dbb79c5f",
   "metadata": {},
   "outputs": [],
   "source": [
    "trabajo.to_csv('C:/Users/Ricardo/Desktop/Portfolio/Heart/02_Datos/03_Trabajo/trabajo.csv')"
   ]
  },
  {
   "cell_type": "code",
   "execution_count": 40,
   "id": "b41bf38e-3168-4fc8-aef0-55ef6f9ae89b",
   "metadata": {},
   "outputs": [
    {
     "data": {
      "text/plain": [
       "(212, 14)"
      ]
     },
     "execution_count": 40,
     "metadata": {},
     "output_type": "execute_result"
    }
   ],
   "source": [
    "trabajo.shape"
   ]
  },
  {
   "cell_type": "markdown",
   "id": "d31dea65",
   "metadata": {
    "jp-MarkdownHeadingCollapsed": true
   },
   "source": [
    "# 📝 CALIDAD DE DATOS"
   ]
  },
  {
   "cell_type": "markdown",
   "id": "swiss-fault",
   "metadata": {
    "jp-MarkdownHeadingCollapsed": true
   },
   "source": [
    "## IMPORTAR PAQUETES"
   ]
  },
  {
   "cell_type": "code",
   "execution_count": 1,
   "id": "adjacent-toddler",
   "metadata": {},
   "outputs": [],
   "source": [
    "import numpy as np\n",
    "import pandas as pd\n",
    "from janitor import clean_names\n",
    "\n",
    "#Automcompletar rápido\n",
    "%config IPCompleter.greedy=True"
   ]
  },
  {
   "cell_type": "markdown",
   "id": "graduate-compensation",
   "metadata": {
    "jp-MarkdownHeadingCollapsed": true
   },
   "source": [
    "## IMPORTAR LOS DATOS"
   ]
  },
  {
   "cell_type": "code",
   "execution_count": 5,
   "id": "28c63848",
   "metadata": {},
   "outputs": [
    {
     "data": {
      "text/html": [
       "<div>\n",
       "<style scoped>\n",
       "    .dataframe tbody tr th:only-of-type {\n",
       "        vertical-align: middle;\n",
       "    }\n",
       "\n",
       "    .dataframe tbody tr th {\n",
       "        vertical-align: top;\n",
       "    }\n",
       "\n",
       "    .dataframe thead th {\n",
       "        text-align: right;\n",
       "    }\n",
       "</style>\n",
       "<table border=\"1\" class=\"dataframe\">\n",
       "  <thead>\n",
       "    <tr style=\"text-align: right;\">\n",
       "      <th></th>\n",
       "      <th>age</th>\n",
       "      <th>sex</th>\n",
       "      <th>cp</th>\n",
       "      <th>trtbps</th>\n",
       "      <th>chol</th>\n",
       "      <th>fbs</th>\n",
       "      <th>restecg</th>\n",
       "      <th>thalachh</th>\n",
       "      <th>exng</th>\n",
       "      <th>oldpeak</th>\n",
       "      <th>slp</th>\n",
       "      <th>caa</th>\n",
       "      <th>thall</th>\n",
       "      <th>output</th>\n",
       "    </tr>\n",
       "  </thead>\n",
       "  <tbody>\n",
       "    <tr>\n",
       "      <th>0</th>\n",
       "      <td>63</td>\n",
       "      <td>1</td>\n",
       "      <td>3</td>\n",
       "      <td>145</td>\n",
       "      <td>233</td>\n",
       "      <td>1</td>\n",
       "      <td>0</td>\n",
       "      <td>150</td>\n",
       "      <td>0</td>\n",
       "      <td>2.3</td>\n",
       "      <td>0</td>\n",
       "      <td>0</td>\n",
       "      <td>1</td>\n",
       "      <td>1</td>\n",
       "    </tr>\n",
       "    <tr>\n",
       "      <th>1</th>\n",
       "      <td>37</td>\n",
       "      <td>1</td>\n",
       "      <td>2</td>\n",
       "      <td>130</td>\n",
       "      <td>250</td>\n",
       "      <td>0</td>\n",
       "      <td>1</td>\n",
       "      <td>187</td>\n",
       "      <td>0</td>\n",
       "      <td>3.5</td>\n",
       "      <td>0</td>\n",
       "      <td>0</td>\n",
       "      <td>2</td>\n",
       "      <td>1</td>\n",
       "    </tr>\n",
       "    <tr>\n",
       "      <th>3</th>\n",
       "      <td>56</td>\n",
       "      <td>1</td>\n",
       "      <td>1</td>\n",
       "      <td>120</td>\n",
       "      <td>236</td>\n",
       "      <td>0</td>\n",
       "      <td>1</td>\n",
       "      <td>178</td>\n",
       "      <td>0</td>\n",
       "      <td>0.8</td>\n",
       "      <td>2</td>\n",
       "      <td>0</td>\n",
       "      <td>2</td>\n",
       "      <td>1</td>\n",
       "    </tr>\n",
       "    <tr>\n",
       "      <th>4</th>\n",
       "      <td>57</td>\n",
       "      <td>0</td>\n",
       "      <td>0</td>\n",
       "      <td>120</td>\n",
       "      <td>354</td>\n",
       "      <td>0</td>\n",
       "      <td>1</td>\n",
       "      <td>163</td>\n",
       "      <td>1</td>\n",
       "      <td>0.6</td>\n",
       "      <td>2</td>\n",
       "      <td>0</td>\n",
       "      <td>2</td>\n",
       "      <td>1</td>\n",
       "    </tr>\n",
       "    <tr>\n",
       "      <th>5</th>\n",
       "      <td>57</td>\n",
       "      <td>1</td>\n",
       "      <td>0</td>\n",
       "      <td>140</td>\n",
       "      <td>192</td>\n",
       "      <td>0</td>\n",
       "      <td>1</td>\n",
       "      <td>148</td>\n",
       "      <td>0</td>\n",
       "      <td>0.4</td>\n",
       "      <td>1</td>\n",
       "      <td>0</td>\n",
       "      <td>1</td>\n",
       "      <td>1</td>\n",
       "    </tr>\n",
       "    <tr>\n",
       "      <th>...</th>\n",
       "      <td>...</td>\n",
       "      <td>...</td>\n",
       "      <td>...</td>\n",
       "      <td>...</td>\n",
       "      <td>...</td>\n",
       "      <td>...</td>\n",
       "      <td>...</td>\n",
       "      <td>...</td>\n",
       "      <td>...</td>\n",
       "      <td>...</td>\n",
       "      <td>...</td>\n",
       "      <td>...</td>\n",
       "      <td>...</td>\n",
       "      <td>...</td>\n",
       "    </tr>\n",
       "    <tr>\n",
       "      <th>293</th>\n",
       "      <td>67</td>\n",
       "      <td>1</td>\n",
       "      <td>2</td>\n",
       "      <td>152</td>\n",
       "      <td>212</td>\n",
       "      <td>0</td>\n",
       "      <td>0</td>\n",
       "      <td>150</td>\n",
       "      <td>0</td>\n",
       "      <td>0.8</td>\n",
       "      <td>1</td>\n",
       "      <td>0</td>\n",
       "      <td>3</td>\n",
       "      <td>0</td>\n",
       "    </tr>\n",
       "    <tr>\n",
       "      <th>295</th>\n",
       "      <td>63</td>\n",
       "      <td>1</td>\n",
       "      <td>0</td>\n",
       "      <td>140</td>\n",
       "      <td>187</td>\n",
       "      <td>0</td>\n",
       "      <td>0</td>\n",
       "      <td>144</td>\n",
       "      <td>1</td>\n",
       "      <td>4.0</td>\n",
       "      <td>2</td>\n",
       "      <td>2</td>\n",
       "      <td>3</td>\n",
       "      <td>0</td>\n",
       "    </tr>\n",
       "    <tr>\n",
       "      <th>298</th>\n",
       "      <td>57</td>\n",
       "      <td>0</td>\n",
       "      <td>0</td>\n",
       "      <td>140</td>\n",
       "      <td>241</td>\n",
       "      <td>0</td>\n",
       "      <td>1</td>\n",
       "      <td>123</td>\n",
       "      <td>1</td>\n",
       "      <td>0.2</td>\n",
       "      <td>1</td>\n",
       "      <td>0</td>\n",
       "      <td>3</td>\n",
       "      <td>0</td>\n",
       "    </tr>\n",
       "    <tr>\n",
       "      <th>299</th>\n",
       "      <td>45</td>\n",
       "      <td>1</td>\n",
       "      <td>3</td>\n",
       "      <td>110</td>\n",
       "      <td>264</td>\n",
       "      <td>0</td>\n",
       "      <td>1</td>\n",
       "      <td>132</td>\n",
       "      <td>0</td>\n",
       "      <td>1.2</td>\n",
       "      <td>1</td>\n",
       "      <td>0</td>\n",
       "      <td>3</td>\n",
       "      <td>0</td>\n",
       "    </tr>\n",
       "    <tr>\n",
       "      <th>300</th>\n",
       "      <td>68</td>\n",
       "      <td>1</td>\n",
       "      <td>0</td>\n",
       "      <td>144</td>\n",
       "      <td>193</td>\n",
       "      <td>1</td>\n",
       "      <td>1</td>\n",
       "      <td>141</td>\n",
       "      <td>0</td>\n",
       "      <td>3.4</td>\n",
       "      <td>1</td>\n",
       "      <td>2</td>\n",
       "      <td>3</td>\n",
       "      <td>0</td>\n",
       "    </tr>\n",
       "  </tbody>\n",
       "</table>\n",
       "<p>212 rows × 14 columns</p>\n",
       "</div>"
      ],
      "text/plain": [
       "     age  sex  cp  trtbps  chol  fbs  restecg  thalachh  exng  oldpeak  slp  \\\n",
       "0     63    1   3     145   233    1        0       150     0      2.3    0   \n",
       "1     37    1   2     130   250    0        1       187     0      3.5    0   \n",
       "3     56    1   1     120   236    0        1       178     0      0.8    2   \n",
       "4     57    0   0     120   354    0        1       163     1      0.6    2   \n",
       "5     57    1   0     140   192    0        1       148     0      0.4    1   \n",
       "..   ...  ...  ..     ...   ...  ...      ...       ...   ...      ...  ...   \n",
       "293   67    1   2     152   212    0        0       150     0      0.8    1   \n",
       "295   63    1   0     140   187    0        0       144     1      4.0    2   \n",
       "298   57    0   0     140   241    0        1       123     1      0.2    1   \n",
       "299   45    1   3     110   264    0        1       132     0      1.2    1   \n",
       "300   68    1   0     144   193    1        1       141     0      3.4    1   \n",
       "\n",
       "     caa  thall  output  \n",
       "0      0      1       1  \n",
       "1      0      2       1  \n",
       "3      0      2       1  \n",
       "4      0      2       1  \n",
       "5      0      1       1  \n",
       "..   ...    ...     ...  \n",
       "293    0      3       0  \n",
       "295    2      3       0  \n",
       "298    0      3       0  \n",
       "299    0      3       0  \n",
       "300    2      3       0  \n",
       "\n",
       "[212 rows x 14 columns]"
      ]
     },
     "execution_count": 5,
     "metadata": {},
     "output_type": "execute_result"
    }
   ],
   "source": [
    "ruta_proyecto = 'C:/Users/Ricardo/Desktop/Portfolio/Heart'\n",
    "nombre_fichero_datos = 'trabajo.csv'\n",
    "ruta_completa = ruta_proyecto + '/02_Datos/03_Trabajo/' + nombre_fichero_datos\n",
    "\n",
    "df = pd.read_csv(ruta_completa,index_col=0)\n",
    "df"
   ]
  },
  {
   "cell_type": "markdown",
   "id": "9790d322",
   "metadata": {},
   "source": [
    "## CORRECCIÓN DE NOMBRES DE VARIABLES"
   ]
  },
  {
   "cell_type": "markdown",
   "id": "f1fa5201",
   "metadata": {},
   "source": [
    "### Corrección automática"
   ]
  },
  {
   "cell_type": "code",
   "execution_count": 5,
   "id": "02607b69",
   "metadata": {},
   "outputs": [
    {
     "data": {
      "text/html": [
       "<div>\n",
       "<style scoped>\n",
       "    .dataframe tbody tr th:only-of-type {\n",
       "        vertical-align: middle;\n",
       "    }\n",
       "\n",
       "    .dataframe tbody tr th {\n",
       "        vertical-align: top;\n",
       "    }\n",
       "\n",
       "    .dataframe thead th {\n",
       "        text-align: right;\n",
       "    }\n",
       "</style>\n",
       "<table border=\"1\" class=\"dataframe\">\n",
       "  <thead>\n",
       "    <tr style=\"text-align: right;\">\n",
       "      <th></th>\n",
       "      <th>age</th>\n",
       "      <th>sex</th>\n",
       "      <th>cp</th>\n",
       "      <th>trtbps</th>\n",
       "      <th>chol</th>\n",
       "      <th>fbs</th>\n",
       "      <th>restecg</th>\n",
       "      <th>thalachh</th>\n",
       "      <th>exng</th>\n",
       "      <th>oldpeak</th>\n",
       "      <th>slp</th>\n",
       "      <th>caa</th>\n",
       "      <th>thall</th>\n",
       "      <th>output</th>\n",
       "    </tr>\n",
       "  </thead>\n",
       "  <tbody>\n",
       "    <tr>\n",
       "      <th>0</th>\n",
       "      <td>63</td>\n",
       "      <td>1</td>\n",
       "      <td>3</td>\n",
       "      <td>145</td>\n",
       "      <td>233</td>\n",
       "      <td>1</td>\n",
       "      <td>0</td>\n",
       "      <td>150</td>\n",
       "      <td>0</td>\n",
       "      <td>2.3</td>\n",
       "      <td>0</td>\n",
       "      <td>0</td>\n",
       "      <td>1</td>\n",
       "      <td>1</td>\n",
       "    </tr>\n",
       "    <tr>\n",
       "      <th>1</th>\n",
       "      <td>37</td>\n",
       "      <td>1</td>\n",
       "      <td>2</td>\n",
       "      <td>130</td>\n",
       "      <td>250</td>\n",
       "      <td>0</td>\n",
       "      <td>1</td>\n",
       "      <td>187</td>\n",
       "      <td>0</td>\n",
       "      <td>3.5</td>\n",
       "      <td>0</td>\n",
       "      <td>0</td>\n",
       "      <td>2</td>\n",
       "      <td>1</td>\n",
       "    </tr>\n",
       "    <tr>\n",
       "      <th>3</th>\n",
       "      <td>56</td>\n",
       "      <td>1</td>\n",
       "      <td>1</td>\n",
       "      <td>120</td>\n",
       "      <td>236</td>\n",
       "      <td>0</td>\n",
       "      <td>1</td>\n",
       "      <td>178</td>\n",
       "      <td>0</td>\n",
       "      <td>0.8</td>\n",
       "      <td>2</td>\n",
       "      <td>0</td>\n",
       "      <td>2</td>\n",
       "      <td>1</td>\n",
       "    </tr>\n",
       "    <tr>\n",
       "      <th>4</th>\n",
       "      <td>57</td>\n",
       "      <td>0</td>\n",
       "      <td>0</td>\n",
       "      <td>120</td>\n",
       "      <td>354</td>\n",
       "      <td>0</td>\n",
       "      <td>1</td>\n",
       "      <td>163</td>\n",
       "      <td>1</td>\n",
       "      <td>0.6</td>\n",
       "      <td>2</td>\n",
       "      <td>0</td>\n",
       "      <td>2</td>\n",
       "      <td>1</td>\n",
       "    </tr>\n",
       "    <tr>\n",
       "      <th>5</th>\n",
       "      <td>57</td>\n",
       "      <td>1</td>\n",
       "      <td>0</td>\n",
       "      <td>140</td>\n",
       "      <td>192</td>\n",
       "      <td>0</td>\n",
       "      <td>1</td>\n",
       "      <td>148</td>\n",
       "      <td>0</td>\n",
       "      <td>0.4</td>\n",
       "      <td>1</td>\n",
       "      <td>0</td>\n",
       "      <td>1</td>\n",
       "      <td>1</td>\n",
       "    </tr>\n",
       "    <tr>\n",
       "      <th>...</th>\n",
       "      <td>...</td>\n",
       "      <td>...</td>\n",
       "      <td>...</td>\n",
       "      <td>...</td>\n",
       "      <td>...</td>\n",
       "      <td>...</td>\n",
       "      <td>...</td>\n",
       "      <td>...</td>\n",
       "      <td>...</td>\n",
       "      <td>...</td>\n",
       "      <td>...</td>\n",
       "      <td>...</td>\n",
       "      <td>...</td>\n",
       "      <td>...</td>\n",
       "    </tr>\n",
       "    <tr>\n",
       "      <th>293</th>\n",
       "      <td>67</td>\n",
       "      <td>1</td>\n",
       "      <td>2</td>\n",
       "      <td>152</td>\n",
       "      <td>212</td>\n",
       "      <td>0</td>\n",
       "      <td>0</td>\n",
       "      <td>150</td>\n",
       "      <td>0</td>\n",
       "      <td>0.8</td>\n",
       "      <td>1</td>\n",
       "      <td>0</td>\n",
       "      <td>3</td>\n",
       "      <td>0</td>\n",
       "    </tr>\n",
       "    <tr>\n",
       "      <th>295</th>\n",
       "      <td>63</td>\n",
       "      <td>1</td>\n",
       "      <td>0</td>\n",
       "      <td>140</td>\n",
       "      <td>187</td>\n",
       "      <td>0</td>\n",
       "      <td>0</td>\n",
       "      <td>144</td>\n",
       "      <td>1</td>\n",
       "      <td>4.0</td>\n",
       "      <td>2</td>\n",
       "      <td>2</td>\n",
       "      <td>3</td>\n",
       "      <td>0</td>\n",
       "    </tr>\n",
       "    <tr>\n",
       "      <th>298</th>\n",
       "      <td>57</td>\n",
       "      <td>0</td>\n",
       "      <td>0</td>\n",
       "      <td>140</td>\n",
       "      <td>241</td>\n",
       "      <td>0</td>\n",
       "      <td>1</td>\n",
       "      <td>123</td>\n",
       "      <td>1</td>\n",
       "      <td>0.2</td>\n",
       "      <td>1</td>\n",
       "      <td>0</td>\n",
       "      <td>3</td>\n",
       "      <td>0</td>\n",
       "    </tr>\n",
       "    <tr>\n",
       "      <th>299</th>\n",
       "      <td>45</td>\n",
       "      <td>1</td>\n",
       "      <td>3</td>\n",
       "      <td>110</td>\n",
       "      <td>264</td>\n",
       "      <td>0</td>\n",
       "      <td>1</td>\n",
       "      <td>132</td>\n",
       "      <td>0</td>\n",
       "      <td>1.2</td>\n",
       "      <td>1</td>\n",
       "      <td>0</td>\n",
       "      <td>3</td>\n",
       "      <td>0</td>\n",
       "    </tr>\n",
       "    <tr>\n",
       "      <th>300</th>\n",
       "      <td>68</td>\n",
       "      <td>1</td>\n",
       "      <td>0</td>\n",
       "      <td>144</td>\n",
       "      <td>193</td>\n",
       "      <td>1</td>\n",
       "      <td>1</td>\n",
       "      <td>141</td>\n",
       "      <td>0</td>\n",
       "      <td>3.4</td>\n",
       "      <td>1</td>\n",
       "      <td>2</td>\n",
       "      <td>3</td>\n",
       "      <td>0</td>\n",
       "    </tr>\n",
       "  </tbody>\n",
       "</table>\n",
       "<p>212 rows × 14 columns</p>\n",
       "</div>"
      ],
      "text/plain": [
       "     age  sex  cp  trtbps  chol  fbs  restecg  thalachh  exng  oldpeak  slp  \\\n",
       "0     63    1   3     145   233    1        0       150     0      2.3    0   \n",
       "1     37    1   2     130   250    0        1       187     0      3.5    0   \n",
       "3     56    1   1     120   236    0        1       178     0      0.8    2   \n",
       "4     57    0   0     120   354    0        1       163     1      0.6    2   \n",
       "5     57    1   0     140   192    0        1       148     0      0.4    1   \n",
       "..   ...  ...  ..     ...   ...  ...      ...       ...   ...      ...  ...   \n",
       "293   67    1   2     152   212    0        0       150     0      0.8    1   \n",
       "295   63    1   0     140   187    0        0       144     1      4.0    2   \n",
       "298   57    0   0     140   241    0        1       123     1      0.2    1   \n",
       "299   45    1   3     110   264    0        1       132     0      1.2    1   \n",
       "300   68    1   0     144   193    1        1       141     0      3.4    1   \n",
       "\n",
       "     caa  thall  output  \n",
       "0      0      1       1  \n",
       "1      0      2       1  \n",
       "3      0      2       1  \n",
       "4      0      2       1  \n",
       "5      0      1       1  \n",
       "..   ...    ...     ...  \n",
       "293    0      3       0  \n",
       "295    2      3       0  \n",
       "298    0      3       0  \n",
       "299    0      3       0  \n",
       "300    2      3       0  \n",
       "\n",
       "[212 rows x 14 columns]"
      ]
     },
     "execution_count": 5,
     "metadata": {},
     "output_type": "execute_result"
    }
   ],
   "source": [
    "df = clean_names(df)\n",
    "df"
   ]
  },
  {
   "cell_type": "markdown",
   "id": "25bf4c99",
   "metadata": {},
   "source": [
    "### Corrección manual"
   ]
  },
  {
   "cell_type": "code",
   "execution_count": 7,
   "id": "c6d83e70",
   "metadata": {},
   "outputs": [
    {
     "data": {
      "text/html": [
       "<div>\n",
       "<style scoped>\n",
       "    .dataframe tbody tr th:only-of-type {\n",
       "        vertical-align: middle;\n",
       "    }\n",
       "\n",
       "    .dataframe tbody tr th {\n",
       "        vertical-align: top;\n",
       "    }\n",
       "\n",
       "    .dataframe thead th {\n",
       "        text-align: right;\n",
       "    }\n",
       "</style>\n",
       "<table border=\"1\" class=\"dataframe\">\n",
       "  <thead>\n",
       "    <tr style=\"text-align: right;\">\n",
       "      <th></th>\n",
       "      <th>age</th>\n",
       "      <th>sex</th>\n",
       "      <th>chess_pain</th>\n",
       "      <th>blood_pressure</th>\n",
       "      <th>cholestoral</th>\n",
       "      <th>fasting_blood_sugar</th>\n",
       "      <th>electro_results</th>\n",
       "      <th>maximum_heart_rate</th>\n",
       "      <th>angina_induced</th>\n",
       "      <th>oldpeak</th>\n",
       "      <th>slp</th>\n",
       "      <th>number_major_vessels</th>\n",
       "      <th>thall</th>\n",
       "      <th>output</th>\n",
       "    </tr>\n",
       "  </thead>\n",
       "  <tbody>\n",
       "    <tr>\n",
       "      <th>0</th>\n",
       "      <td>63</td>\n",
       "      <td>1</td>\n",
       "      <td>3</td>\n",
       "      <td>145</td>\n",
       "      <td>233</td>\n",
       "      <td>1</td>\n",
       "      <td>0</td>\n",
       "      <td>150</td>\n",
       "      <td>0</td>\n",
       "      <td>2.3</td>\n",
       "      <td>0</td>\n",
       "      <td>0</td>\n",
       "      <td>1</td>\n",
       "      <td>1</td>\n",
       "    </tr>\n",
       "    <tr>\n",
       "      <th>1</th>\n",
       "      <td>37</td>\n",
       "      <td>1</td>\n",
       "      <td>2</td>\n",
       "      <td>130</td>\n",
       "      <td>250</td>\n",
       "      <td>0</td>\n",
       "      <td>1</td>\n",
       "      <td>187</td>\n",
       "      <td>0</td>\n",
       "      <td>3.5</td>\n",
       "      <td>0</td>\n",
       "      <td>0</td>\n",
       "      <td>2</td>\n",
       "      <td>1</td>\n",
       "    </tr>\n",
       "    <tr>\n",
       "      <th>3</th>\n",
       "      <td>56</td>\n",
       "      <td>1</td>\n",
       "      <td>1</td>\n",
       "      <td>120</td>\n",
       "      <td>236</td>\n",
       "      <td>0</td>\n",
       "      <td>1</td>\n",
       "      <td>178</td>\n",
       "      <td>0</td>\n",
       "      <td>0.8</td>\n",
       "      <td>2</td>\n",
       "      <td>0</td>\n",
       "      <td>2</td>\n",
       "      <td>1</td>\n",
       "    </tr>\n",
       "    <tr>\n",
       "      <th>4</th>\n",
       "      <td>57</td>\n",
       "      <td>0</td>\n",
       "      <td>0</td>\n",
       "      <td>120</td>\n",
       "      <td>354</td>\n",
       "      <td>0</td>\n",
       "      <td>1</td>\n",
       "      <td>163</td>\n",
       "      <td>1</td>\n",
       "      <td>0.6</td>\n",
       "      <td>2</td>\n",
       "      <td>0</td>\n",
       "      <td>2</td>\n",
       "      <td>1</td>\n",
       "    </tr>\n",
       "    <tr>\n",
       "      <th>5</th>\n",
       "      <td>57</td>\n",
       "      <td>1</td>\n",
       "      <td>0</td>\n",
       "      <td>140</td>\n",
       "      <td>192</td>\n",
       "      <td>0</td>\n",
       "      <td>1</td>\n",
       "      <td>148</td>\n",
       "      <td>0</td>\n",
       "      <td>0.4</td>\n",
       "      <td>1</td>\n",
       "      <td>0</td>\n",
       "      <td>1</td>\n",
       "      <td>1</td>\n",
       "    </tr>\n",
       "    <tr>\n",
       "      <th>...</th>\n",
       "      <td>...</td>\n",
       "      <td>...</td>\n",
       "      <td>...</td>\n",
       "      <td>...</td>\n",
       "      <td>...</td>\n",
       "      <td>...</td>\n",
       "      <td>...</td>\n",
       "      <td>...</td>\n",
       "      <td>...</td>\n",
       "      <td>...</td>\n",
       "      <td>...</td>\n",
       "      <td>...</td>\n",
       "      <td>...</td>\n",
       "      <td>...</td>\n",
       "    </tr>\n",
       "    <tr>\n",
       "      <th>293</th>\n",
       "      <td>67</td>\n",
       "      <td>1</td>\n",
       "      <td>2</td>\n",
       "      <td>152</td>\n",
       "      <td>212</td>\n",
       "      <td>0</td>\n",
       "      <td>0</td>\n",
       "      <td>150</td>\n",
       "      <td>0</td>\n",
       "      <td>0.8</td>\n",
       "      <td>1</td>\n",
       "      <td>0</td>\n",
       "      <td>3</td>\n",
       "      <td>0</td>\n",
       "    </tr>\n",
       "    <tr>\n",
       "      <th>295</th>\n",
       "      <td>63</td>\n",
       "      <td>1</td>\n",
       "      <td>0</td>\n",
       "      <td>140</td>\n",
       "      <td>187</td>\n",
       "      <td>0</td>\n",
       "      <td>0</td>\n",
       "      <td>144</td>\n",
       "      <td>1</td>\n",
       "      <td>4.0</td>\n",
       "      <td>2</td>\n",
       "      <td>2</td>\n",
       "      <td>3</td>\n",
       "      <td>0</td>\n",
       "    </tr>\n",
       "    <tr>\n",
       "      <th>298</th>\n",
       "      <td>57</td>\n",
       "      <td>0</td>\n",
       "      <td>0</td>\n",
       "      <td>140</td>\n",
       "      <td>241</td>\n",
       "      <td>0</td>\n",
       "      <td>1</td>\n",
       "      <td>123</td>\n",
       "      <td>1</td>\n",
       "      <td>0.2</td>\n",
       "      <td>1</td>\n",
       "      <td>0</td>\n",
       "      <td>3</td>\n",
       "      <td>0</td>\n",
       "    </tr>\n",
       "    <tr>\n",
       "      <th>299</th>\n",
       "      <td>45</td>\n",
       "      <td>1</td>\n",
       "      <td>3</td>\n",
       "      <td>110</td>\n",
       "      <td>264</td>\n",
       "      <td>0</td>\n",
       "      <td>1</td>\n",
       "      <td>132</td>\n",
       "      <td>0</td>\n",
       "      <td>1.2</td>\n",
       "      <td>1</td>\n",
       "      <td>0</td>\n",
       "      <td>3</td>\n",
       "      <td>0</td>\n",
       "    </tr>\n",
       "    <tr>\n",
       "      <th>300</th>\n",
       "      <td>68</td>\n",
       "      <td>1</td>\n",
       "      <td>0</td>\n",
       "      <td>144</td>\n",
       "      <td>193</td>\n",
       "      <td>1</td>\n",
       "      <td>1</td>\n",
       "      <td>141</td>\n",
       "      <td>0</td>\n",
       "      <td>3.4</td>\n",
       "      <td>1</td>\n",
       "      <td>2</td>\n",
       "      <td>3</td>\n",
       "      <td>0</td>\n",
       "    </tr>\n",
       "  </tbody>\n",
       "</table>\n",
       "<p>212 rows × 14 columns</p>\n",
       "</div>"
      ],
      "text/plain": [
       "     age  sex  chess_pain  blood_pressure  cholestoral  fasting_blood_sugar  \\\n",
       "0     63    1           3             145          233                    1   \n",
       "1     37    1           2             130          250                    0   \n",
       "3     56    1           1             120          236                    0   \n",
       "4     57    0           0             120          354                    0   \n",
       "5     57    1           0             140          192                    0   \n",
       "..   ...  ...         ...             ...          ...                  ...   \n",
       "293   67    1           2             152          212                    0   \n",
       "295   63    1           0             140          187                    0   \n",
       "298   57    0           0             140          241                    0   \n",
       "299   45    1           3             110          264                    0   \n",
       "300   68    1           0             144          193                    1   \n",
       "\n",
       "     electro_results  maximum_heart_rate  angina_induced  oldpeak  slp  \\\n",
       "0                  0                 150               0      2.3    0   \n",
       "1                  1                 187               0      3.5    0   \n",
       "3                  1                 178               0      0.8    2   \n",
       "4                  1                 163               1      0.6    2   \n",
       "5                  1                 148               0      0.4    1   \n",
       "..               ...                 ...             ...      ...  ...   \n",
       "293                0                 150               0      0.8    1   \n",
       "295                0                 144               1      4.0    2   \n",
       "298                1                 123               1      0.2    1   \n",
       "299                1                 132               0      1.2    1   \n",
       "300                1                 141               0      3.4    1   \n",
       "\n",
       "     number_major_vessels  thall  output  \n",
       "0                       0      1       1  \n",
       "1                       0      2       1  \n",
       "3                       0      2       1  \n",
       "4                       0      2       1  \n",
       "5                       0      1       1  \n",
       "..                    ...    ...     ...  \n",
       "293                     0      3       0  \n",
       "295                     2      3       0  \n",
       "298                     0      3       0  \n",
       "299                     0      3       0  \n",
       "300                     2      3       0  \n",
       "\n",
       "[212 rows x 14 columns]"
      ]
     },
     "execution_count": 7,
     "metadata": {},
     "output_type": "execute_result"
    }
   ],
   "source": [
    "df.rename(columns = {'cp':'chess_pain'\n",
    "                    ,'trtbps':'blood_pressure'\n",
    "                    ,'chol':'cholestoral'\n",
    "                    ,'fbs':'fasting_blood_sugar'\n",
    "                    ,'restecg':'electro_results'\n",
    "                    ,'thalachh':'maximum_heart_rate'\n",
    "                    ,'exng':'angina_induced'\n",
    "                    ,'caa':'number_major_vessels'\n",
    "                    }, inplace=True)\n",
    "df"
   ]
  },
  {
   "cell_type": "markdown",
   "id": "d2d5443c",
   "metadata": {},
   "source": [
    "## VISIÓN GENERAL"
   ]
  },
  {
   "cell_type": "code",
   "execution_count": 8,
   "id": "976c8ac6",
   "metadata": {},
   "outputs": [
    {
     "name": "stdout",
     "output_type": "stream",
     "text": [
      "<class 'pandas.core.frame.DataFrame'>\n",
      "Int64Index: 212 entries, 0 to 300\n",
      "Data columns (total 14 columns):\n",
      " #   Column                Non-Null Count  Dtype  \n",
      "---  ------                --------------  -----  \n",
      " 0   age                   212 non-null    int64  \n",
      " 1   sex                   212 non-null    int64  \n",
      " 2   chess_pain            212 non-null    int64  \n",
      " 3   blood_pressure        212 non-null    int64  \n",
      " 4   cholestoral           212 non-null    int64  \n",
      " 5   fasting_blood_sugar   212 non-null    int64  \n",
      " 6   electro_results       212 non-null    int64  \n",
      " 7   maximum_heart_rate    212 non-null    int64  \n",
      " 8   angina_induced        212 non-null    int64  \n",
      " 9   oldpeak               212 non-null    float64\n",
      " 10  slp                   212 non-null    int64  \n",
      " 11  number_major_vessels  212 non-null    int64  \n",
      " 12  thall                 212 non-null    int64  \n",
      " 13  output                212 non-null    int64  \n",
      "dtypes: float64(1), int64(13)\n",
      "memory usage: 24.8 KB\n"
     ]
    }
   ],
   "source": [
    "df.info()"
   ]
  },
  {
   "cell_type": "markdown",
   "id": "158ee1d7",
   "metadata": {},
   "source": [
    "## TIPOS DE DATOS"
   ]
  },
  {
   "cell_type": "code",
   "execution_count": 9,
   "id": "197a99c2",
   "metadata": {},
   "outputs": [
    {
     "data": {
      "text/plain": [
       "age                       int64\n",
       "sex                       int64\n",
       "chess_pain                int64\n",
       "blood_pressure            int64\n",
       "cholestoral               int64\n",
       "fasting_blood_sugar       int64\n",
       "electro_results           int64\n",
       "maximum_heart_rate        int64\n",
       "angina_induced            int64\n",
       "oldpeak                 float64\n",
       "slp                       int64\n",
       "number_major_vessels      int64\n",
       "thall                     int64\n",
       "output                    int64\n",
       "dtype: object"
      ]
     },
     "execution_count": 9,
     "metadata": {},
     "output_type": "execute_result"
    }
   ],
   "source": [
    "df.dtypes"
   ]
  },
  {
   "cell_type": "markdown",
   "id": "cc8d4a22",
   "metadata": {},
   "source": [
    "## VALORES ÚNICOS"
   ]
  },
  {
   "cell_type": "markdown",
   "id": "f21f0e36",
   "metadata": {},
   "source": [
    "### Identificación"
   ]
  },
  {
   "cell_type": "code",
   "execution_count": 10,
   "id": "6e53e444",
   "metadata": {},
   "outputs": [
    {
     "data": {
      "text/plain": [
       "sex                       2\n",
       "fasting_blood_sugar       2\n",
       "angina_induced            2\n",
       "output                    2\n",
       "electro_results           3\n",
       "slp                       3\n",
       "chess_pain                4\n",
       "thall                     4\n",
       "number_major_vessels      5\n",
       "oldpeak                  38\n",
       "age                      40\n",
       "blood_pressure           45\n",
       "maximum_heart_rate       79\n",
       "cholestoral             126\n",
       "dtype: int64"
      ]
     },
     "execution_count": 10,
     "metadata": {},
     "output_type": "execute_result"
    }
   ],
   "source": [
    "df.nunique().sort_values()"
   ]
  },
  {
   "cell_type": "markdown",
   "id": "e25cfc89",
   "metadata": {},
   "source": [
    "## DUPLICADOS"
   ]
  },
  {
   "cell_type": "markdown",
   "id": "8a079ed3",
   "metadata": {},
   "source": [
    "### Identificación"
   ]
  },
  {
   "cell_type": "code",
   "execution_count": 11,
   "id": "f5b23bfc",
   "metadata": {
    "scrolled": true
   },
   "outputs": [
    {
     "data": {
      "text/plain": [
       "1"
      ]
     },
     "execution_count": 11,
     "metadata": {},
     "output_type": "execute_result"
    }
   ],
   "source": [
    "df.duplicated().sum()"
   ]
  },
  {
   "cell_type": "markdown",
   "id": "d440242b",
   "metadata": {},
   "source": [
    "### Corrección"
   ]
  },
  {
   "cell_type": "code",
   "execution_count": 12,
   "id": "a693f362",
   "metadata": {},
   "outputs": [],
   "source": [
    "df.drop_duplicates(inplace = True)"
   ]
  },
  {
   "cell_type": "markdown",
   "id": "db3a72a6",
   "metadata": {},
   "source": [
    "## GESTIÓN DE NUMÉRICAS"
   ]
  },
  {
   "cell_type": "markdown",
   "id": "d65bd06a",
   "metadata": {},
   "source": [
    "### Nulos"
   ]
  },
  {
   "cell_type": "markdown",
   "id": "e5ee8416",
   "metadata": {},
   "source": [
    "#### Identificación"
   ]
  },
  {
   "cell_type": "code",
   "execution_count": 15,
   "id": "c9f054a3",
   "metadata": {
    "scrolled": true
   },
   "outputs": [
    {
     "data": {
      "text/plain": [
       "age                     0\n",
       "sex                     0\n",
       "chess_pain              0\n",
       "blood_pressure          0\n",
       "cholestoral             0\n",
       "fasting_blood_sugar     0\n",
       "electro_results         0\n",
       "maximum_heart_rate      0\n",
       "angina_induced          0\n",
       "oldpeak                 0\n",
       "slp                     0\n",
       "number_major_vessels    0\n",
       "thall                   0\n",
       "output                  0\n",
       "dtype: int64"
      ]
     },
     "execution_count": 15,
     "metadata": {},
     "output_type": "execute_result"
    }
   ],
   "source": [
    "num.isna().sum().sort_values(ascending = False)"
   ]
  },
  {
   "cell_type": "markdown",
   "id": "82cb56e8",
   "metadata": {},
   "source": [
    "### Atípicos"
   ]
  },
  {
   "cell_type": "markdown",
   "id": "760baf8c",
   "metadata": {},
   "source": [
    "#### Por desviación típica"
   ]
  },
  {
   "cell_type": "markdown",
   "id": "8ceda3d3",
   "metadata": {},
   "source": [
    "###### Definir el número de desviaciones típicas"
   ]
  },
  {
   "cell_type": "code",
   "execution_count": 31,
   "id": "2b7419cb",
   "metadata": {},
   "outputs": [],
   "source": [
    "num_desv_tip = 3"
   ]
  },
  {
   "cell_type": "markdown",
   "id": "942da237",
   "metadata": {},
   "source": [
    "###### Función que devuelve los índices de los atípicos"
   ]
  },
  {
   "cell_type": "code",
   "execution_count": 32,
   "id": "8a81f494",
   "metadata": {},
   "outputs": [],
   "source": [
    "def atipicos_desv_tip(variable, num_desv_tip = 3):\n",
    "    #sacamos los nulos por ahora\n",
    "    variable = variable.dropna()\n",
    "    #calculamos los límites\n",
    "    media = np.mean(variable)\n",
    "    sd = np.std(variable)\n",
    "    umbral = sd * num_desv_tip\n",
    "    lim_inf = media - umbral\n",
    "    lim_sup = media + umbral\n",
    "    #encontramos los índices de los que están fuera de los límites\n",
    "    indices = [indice for indice,valor in variable.items() if valor < lim_inf or valor > lim_sup]\n",
    "    return(indices)"
   ]
  },
  {
   "cell_type": "markdown",
   "id": "768e7398",
   "metadata": {},
   "source": [
    "###### Función que cuenta el número de atípicos"
   ]
  },
  {
   "cell_type": "code",
   "execution_count": 33,
   "id": "5c8f4462",
   "metadata": {},
   "outputs": [],
   "source": [
    "def conteo_atipicos(df,variable, num_desv_tip = 3):\n",
    "    atipicos = atipicos_desv_tip(df[variable], num_desv_tip)\n",
    "    return(df.loc[atipicos,variable].value_counts())"
   ]
  },
  {
   "cell_type": "markdown",
   "id": "5cd1e425",
   "metadata": {},
   "source": [
    "###### Variables a aplicar"
   ]
  },
  {
   "cell_type": "code",
   "execution_count": 34,
   "id": "a0e4b503-7e4b-4798-838d-c64eb0707e50",
   "metadata": {},
   "outputs": [
    {
     "data": {
      "text/plain": [
       "Index(['age', 'sex', 'chess_pain', 'blood_pressure', 'cholestoral',\n",
       "       'fasting_blood_sugar', 'electro_results', 'maximum_heart_rate',\n",
       "       'angina_induced', 'oldpeak', 'slp', 'number_major_vessels', 'thall',\n",
       "       'output'],\n",
       "      dtype='object')"
      ]
     },
     "execution_count": 34,
     "metadata": {},
     "output_type": "execute_result"
    }
   ],
   "source": [
    "df.columns"
   ]
  },
  {
   "cell_type": "code",
   "execution_count": 35,
   "id": "cfbb3d88",
   "metadata": {},
   "outputs": [],
   "source": [
    "var_atipicos_dt = ['electro_results', 'maximum_heart_rate',\n",
    "       'angina_induced', 'oldpeak', 'slp', 'number_major_vessels', 'thall']"
   ]
  },
  {
   "cell_type": "markdown",
   "id": "ac400ced",
   "metadata": {},
   "source": [
    "###### Aplicar"
   ]
  },
  {
   "cell_type": "code",
   "execution_count": 36,
   "id": "c4b74e98",
   "metadata": {},
   "outputs": [
    {
     "name": "stdout",
     "output_type": "stream",
     "text": [
      "\n",
      "electro_results:\n",
      "\n",
      "Series([], Name: electro_results, dtype: int64)\n",
      "\n",
      "maximum_heart_rate:\n",
      "\n",
      "71    1\n",
      "Name: maximum_heart_rate, dtype: int64\n",
      "\n",
      "angina_induced:\n",
      "\n",
      "Series([], Name: angina_induced, dtype: int64)\n",
      "\n",
      "oldpeak:\n",
      "\n",
      "5.6    1\n",
      "Name: oldpeak, dtype: int64\n",
      "\n",
      "slp:\n",
      "\n",
      "Series([], Name: slp, dtype: int64)\n",
      "\n",
      "number_major_vessels:\n",
      "\n",
      "4    3\n",
      "Name: number_major_vessels, dtype: int64\n",
      "\n",
      "thall:\n",
      "\n",
      "0    2\n",
      "Name: thall, dtype: int64\n"
     ]
    }
   ],
   "source": [
    "for variable in var_atipicos_dt:\n",
    "    print('\\n' + variable + ':\\n')\n",
    "    print(conteo_atipicos(num,variable,num_desv_tip))"
   ]
  },
  {
   "cell_type": "code",
   "execution_count": null,
   "id": "d9424808-de76-4f6e-a343-5c5f74381543",
   "metadata": {},
   "outputs": [],
   "source": [
    "#Vamos a ver estas variables por el metodo de colas por revisarlas."
   ]
  },
  {
   "cell_type": "code",
   "execution_count": 38,
   "id": "bba455d3-0d9d-4496-8af7-34dbcc75ffef",
   "metadata": {},
   "outputs": [
    {
     "data": {
      "image/png": "[encoded data removed]",
      "text/plain": [
       "<Figure size 864x432 with 1 Axes>"
      ]
     },
     "metadata": {
      "needs_background": "light"
     },
     "output_type": "display_data"
    }
   ],
   "source": [
    " df.maximum_heart_rate.value_counts().sort_index().head(50).plot(kind = 'bar', figsize = (12,6));"
   ]
  },
  {
   "cell_type": "code",
   "execution_count": 39,
   "id": "66a11207-dc69-411c-b39c-d8bf29f73816",
   "metadata": {},
   "outputs": [
    {
     "data": {
      "image/png": "[encoded data removed]",
      "text/plain": [
       "<Figure size 864x432 with 1 Axes>"
      ]
     },
     "metadata": {
      "needs_background": "light"
     },
     "output_type": "display_data"
    }
   ],
   "source": [
    " df.maximum_heart_rate.value_counts().sort_index(ascending=False).head(50).plot(kind = 'bar', figsize = (12,6));"
   ]
  },
  {
   "cell_type": "code",
   "execution_count": 41,
   "id": "7c84e541-f7ea-492d-b46d-a57e3ed54b1d",
   "metadata": {},
   "outputs": [
    {
     "data": {
      "image/png": "[encoded data removed]",
      "text/plain": [
       "<Figure size 864x432 with 1 Axes>"
      ]
     },
     "metadata": {
      "needs_background": "light"
     },
     "output_type": "display_data"
    }
   ],
   "source": [
    "df.oldpeak.value_counts().sort_index().head(50).plot(kind = 'bar',figsize = (12,6));"
   ]
  },
  {
   "cell_type": "code",
   "execution_count": 42,
   "id": "52f175b0-2007-45dc-9f2b-072364a89bd2",
   "metadata": {},
   "outputs": [
    {
     "data": {
      "image/png": "[encoded data removed]",
      "text/plain": [
       "<Figure size 864x432 with 1 Axes>"
      ]
     },
     "metadata": {
      "needs_background": "light"
     },
     "output_type": "display_data"
    }
   ],
   "source": [
    "df.oldpeak.value_counts().sort_index(ascending = False).head(50).plot(kind = 'bar',figsize = (12,6));"
   ]
  },
  {
   "cell_type": "code",
   "execution_count": 43,
   "id": "5c25c1ea-9cfd-4b92-86ca-523587138b34",
   "metadata": {},
   "outputs": [
    {
     "data": {
      "image/png": "[encoded data removed]",
      "text/plain": [
       "<Figure size 864x432 with 1 Axes>"
      ]
     },
     "metadata": {
      "needs_background": "light"
     },
     "output_type": "display_data"
    }
   ],
   "source": [
    "df.number_major_vessels.value_counts().sort_index(ascending = True).head(50).plot(kind = 'bar',figsize = (12,6));"
   ]
  },
  {
   "cell_type": "code",
   "execution_count": 44,
   "id": "fb277eb9-e616-4cfe-8d56-2e6c1528e14a",
   "metadata": {},
   "outputs": [
    {
     "data": {
      "image/png": "[encoded data removed]",
      "text/plain": [
       "<Figure size 864x432 with 1 Axes>"
      ]
     },
     "metadata": {
      "needs_background": "light"
     },
     "output_type": "display_data"
    }
   ],
   "source": [
    "df.number_major_vessels.value_counts().sort_index(ascending = False).head(50).plot(kind = 'bar',figsize = (12,6));"
   ]
  },
  {
   "cell_type": "code",
   "execution_count": 48,
   "id": "8c16cd66-9744-48b5-811c-507a1b14729f",
   "metadata": {},
   "outputs": [
    {
     "data": {
      "text/plain": [
       "4      3\n",
       "3     14\n",
       "2     27\n",
       "1     36\n",
       "0    131\n",
       "Name: number_major_vessels, dtype: int64"
      ]
     },
     "execution_count": 48,
     "metadata": {},
     "output_type": "execute_result"
    }
   ],
   "source": [
    "df.number_major_vessels.value_counts().sort_index(ascending = False)"
   ]
  },
  {
   "cell_type": "code",
   "execution_count": 45,
   "id": "6b9f56c1-49f4-47fa-abc5-50b038f66552",
   "metadata": {},
   "outputs": [
    {
     "data": {
      "image/png": "[encoded data removed]",
      "text/plain": [
       "<Figure size 864x432 with 1 Axes>"
      ]
     },
     "metadata": {
      "needs_background": "light"
     },
     "output_type": "display_data"
    }
   ],
   "source": [
    "df.thall.value_counts().sort_index(ascending = True).head(50).plot(kind = 'bar',figsize = (12,6));"
   ]
  },
  {
   "cell_type": "code",
   "execution_count": 46,
   "id": "e00d4f98-26d2-4cc8-8421-9d7c8bebfd66",
   "metadata": {},
   "outputs": [
    {
     "data": {
      "image/png": "[encoded data removed]",
      "text/plain": [
       "<Figure size 864x432 with 1 Axes>"
      ]
     },
     "metadata": {
      "needs_background": "light"
     },
     "output_type": "display_data"
    }
   ],
   "source": [
    "df.thall.value_counts().sort_index(ascending = False).head(50).plot(kind = 'bar',figsize = (12,6));"
   ]
  },
  {
   "cell_type": "code",
   "execution_count": 47,
   "id": "c3881798-926d-4ad4-a1ec-69f9a95e6268",
   "metadata": {},
   "outputs": [
    {
     "data": {
      "text/plain": [
       "3     86\n",
       "2    110\n",
       "1     13\n",
       "0      2\n",
       "Name: thall, dtype: int64"
      ]
     },
     "execution_count": 47,
     "metadata": {},
     "output_type": "execute_result"
    }
   ],
   "source": [
    "df.thall.value_counts().sort_index(ascending = False)"
   ]
  },
  {
   "cell_type": "code",
   "execution_count": null,
   "id": "0afbd37d-6952-4c27-a484-a2a3bf47fdb9",
   "metadata": {},
   "outputs": [],
   "source": [
    "#vamos a winsorizart manualmente las variables thall y number_major_vessels"
   ]
  },
  {
   "cell_type": "markdown",
   "id": "47862bcf",
   "metadata": {},
   "source": [
    "#### Por winsorización manual para una variable"
   ]
  },
  {
   "cell_type": "markdown",
   "id": "963a3881",
   "metadata": {},
   "source": [
    "##### Identificación"
   ]
  },
  {
   "cell_type": "markdown",
   "id": "af41a20d",
   "metadata": {},
   "source": [
    "###### Variable a analizar"
   ]
  },
  {
   "cell_type": "code",
   "execution_count": 29,
   "id": "f90db9dc",
   "metadata": {},
   "outputs": [],
   "source": [
    "variable =  'thall'\n"
   ]
  },
  {
   "cell_type": "markdown",
   "id": "e0332345",
   "metadata": {},
   "source": [
    "###### Comprobar el mínimo y máximo actual"
   ]
  },
  {
   "cell_type": "code",
   "execution_count": 50,
   "id": "64d5394b",
   "metadata": {},
   "outputs": [
    {
     "data": {
      "text/plain": [
       "min    0.0\n",
       "max    3.0\n",
       "Name: thall, dtype: float64"
      ]
     },
     "execution_count": 50,
     "metadata": {},
     "output_type": "execute_result"
    }
   ],
   "source": [
    "df[variable].describe().loc[['min','max']]"
   ]
  },
  {
   "cell_type": "markdown",
   "id": "28d07312",
   "metadata": {},
   "source": [
    "##### Corrección"
   ]
  },
  {
   "cell_type": "markdown",
   "id": "fbea3a26",
   "metadata": {},
   "source": [
    "###### Definir el mínimo y máximo tolerable."
   ]
  },
  {
   "cell_type": "code",
   "execution_count": 52,
   "id": "c8b2d8dc",
   "metadata": {},
   "outputs": [],
   "source": [
    "minimo = 1\n",
    "maximo = 3"
   ]
  },
  {
   "cell_type": "markdown",
   "id": "be19a3d1",
   "metadata": {},
   "source": [
    "###### Aplicar"
   ]
  },
  {
   "cell_type": "code",
   "execution_count": 53,
   "id": "a607d0dd",
   "metadata": {},
   "outputs": [],
   "source": [
    "df[variable].clip(minimo,maximo, inplace=True)"
   ]
  },
  {
   "cell_type": "code",
   "execution_count": 54,
   "id": "13b2b998-4ed5-48d1-bff0-38070968f70a",
   "metadata": {},
   "outputs": [],
   "source": [
    "df['number_major_vessels'].clip(0,3,inplace = True)"
   ]
  },
  {
   "cell_type": "code",
   "execution_count": 58,
   "id": "7983bca5-2af9-4446-be64-4fce0b999299",
   "metadata": {},
   "outputs": [
    {
     "data": {
      "text/plain": [
       "0    131\n",
       "1     36\n",
       "2     27\n",
       "3     17\n",
       "Name: number_major_vessels, dtype: int64"
      ]
     },
     "execution_count": 58,
     "metadata": {},
     "output_type": "execute_result"
    }
   ],
   "source": [
    "df.number_major_vessels.value_counts()"
   ]
  },
  {
   "cell_type": "markdown",
   "id": "0f6b1e4a",
   "metadata": {},
   "source": [
    "## GUARDAR DATASETS TRAS CALIDAD DE DATOS"
   ]
  },
  {
   "cell_type": "code",
   "execution_count": 59,
   "id": "f83c6f26",
   "metadata": {},
   "outputs": [],
   "source": [
    "ruta_trabajo = ruta_proyecto + '/02_Datos/03_Trabajo/' + 'trabajo_resultado_calidad.pickle'\n",
    "df.to_pickle(ruta_trabajo)"
   ]
  },
  {
   "cell_type": "markdown",
   "id": "02fa98e7",
   "metadata": {
    "jp-MarkdownHeadingCollapsed": true
   },
   "source": [
    "# 🔬 EDA"
   ]
  },
  {
   "cell_type": "markdown",
   "id": "085703a1",
   "metadata": {
    "jp-MarkdownHeadingCollapsed": true
   },
   "source": [
    "## IMPORTAR PAQUETES"
   ]
  },
  {
   "cell_type": "code",
   "execution_count": 1,
   "id": "96736a1b",
   "metadata": {},
   "outputs": [],
   "source": [
    "import numpy as np\n",
    "import pandas as pd\n",
    "import matplotlib.pyplot as plt\n",
    "%matplotlib inline\n",
    "\n",
    "#Automcompletar rápido\n",
    "%config IPCompleter.greedy=True"
   ]
  },
  {
   "cell_type": "markdown",
   "id": "701fa42f",
   "metadata": {
    "jp-MarkdownHeadingCollapsed": true
   },
   "source": [
    "## IMPORTAR LOS DATOS"
   ]
  },
  {
   "cell_type": "code",
   "execution_count": 2,
   "id": "f9d2de58",
   "metadata": {},
   "outputs": [],
   "source": [
    "ruta_proyecto = 'C:/Users/Ricardo/Desktop/Portfolio/Heart'"
   ]
  },
  {
   "cell_type": "code",
   "execution_count": 5,
   "id": "a9e2e04a",
   "metadata": {},
   "outputs": [],
   "source": [
    "nombre_df = 'trabajo_resultado_calidad.pickle'"
   ]
  },
  {
   "cell_type": "code",
   "execution_count": 6,
   "id": "cab6ebcd",
   "metadata": {},
   "outputs": [],
   "source": [
    "df = pd.read_pickle(ruta_proyecto + '/02_Datos/03_Trabajo/' + nombre_df)"
   ]
  },
  {
   "cell_type": "code",
   "execution_count": 7,
   "id": "0a555422-b834-4726-aaef-1529a0659c0a",
   "metadata": {},
   "outputs": [
    {
     "data": {
      "text/html": [
       "<div>\n",
       "<style scoped>\n",
       "    .dataframe tbody tr th:only-of-type {\n",
       "        vertical-align: middle;\n",
       "    }\n",
       "\n",
       "    .dataframe tbody tr th {\n",
       "        vertical-align: top;\n",
       "    }\n",
       "\n",
       "    .dataframe thead th {\n",
       "        text-align: right;\n",
       "    }\n",
       "</style>\n",
       "<table border=\"1\" class=\"dataframe\">\n",
       "  <thead>\n",
       "    <tr style=\"text-align: right;\">\n",
       "      <th></th>\n",
       "      <th>age</th>\n",
       "      <th>sex</th>\n",
       "      <th>chess_pain</th>\n",
       "      <th>blood_pressure</th>\n",
       "      <th>cholestoral</th>\n",
       "      <th>fasting_blood_sugar</th>\n",
       "      <th>electro_results</th>\n",
       "      <th>maximum_heart_rate</th>\n",
       "      <th>angina_induced</th>\n",
       "      <th>oldpeak</th>\n",
       "      <th>slp</th>\n",
       "      <th>number_major_vessels</th>\n",
       "      <th>thall</th>\n",
       "      <th>output</th>\n",
       "    </tr>\n",
       "  </thead>\n",
       "  <tbody>\n",
       "    <tr>\n",
       "      <th>0</th>\n",
       "      <td>63</td>\n",
       "      <td>1</td>\n",
       "      <td>3</td>\n",
       "      <td>145</td>\n",
       "      <td>233</td>\n",
       "      <td>1</td>\n",
       "      <td>0</td>\n",
       "      <td>150</td>\n",
       "      <td>0</td>\n",
       "      <td>2.3</td>\n",
       "      <td>0</td>\n",
       "      <td>0</td>\n",
       "      <td>1</td>\n",
       "      <td>1</td>\n",
       "    </tr>\n",
       "    <tr>\n",
       "      <th>1</th>\n",
       "      <td>37</td>\n",
       "      <td>1</td>\n",
       "      <td>2</td>\n",
       "      <td>130</td>\n",
       "      <td>250</td>\n",
       "      <td>0</td>\n",
       "      <td>1</td>\n",
       "      <td>187</td>\n",
       "      <td>0</td>\n",
       "      <td>3.5</td>\n",
       "      <td>0</td>\n",
       "      <td>0</td>\n",
       "      <td>2</td>\n",
       "      <td>1</td>\n",
       "    </tr>\n",
       "    <tr>\n",
       "      <th>3</th>\n",
       "      <td>56</td>\n",
       "      <td>1</td>\n",
       "      <td>1</td>\n",
       "      <td>120</td>\n",
       "      <td>236</td>\n",
       "      <td>0</td>\n",
       "      <td>1</td>\n",
       "      <td>178</td>\n",
       "      <td>0</td>\n",
       "      <td>0.8</td>\n",
       "      <td>2</td>\n",
       "      <td>0</td>\n",
       "      <td>2</td>\n",
       "      <td>1</td>\n",
       "    </tr>\n",
       "    <tr>\n",
       "      <th>4</th>\n",
       "      <td>57</td>\n",
       "      <td>0</td>\n",
       "      <td>0</td>\n",
       "      <td>120</td>\n",
       "      <td>354</td>\n",
       "      <td>0</td>\n",
       "      <td>1</td>\n",
       "      <td>163</td>\n",
       "      <td>1</td>\n",
       "      <td>0.6</td>\n",
       "      <td>2</td>\n",
       "      <td>0</td>\n",
       "      <td>2</td>\n",
       "      <td>1</td>\n",
       "    </tr>\n",
       "    <tr>\n",
       "      <th>5</th>\n",
       "      <td>57</td>\n",
       "      <td>1</td>\n",
       "      <td>0</td>\n",
       "      <td>140</td>\n",
       "      <td>192</td>\n",
       "      <td>0</td>\n",
       "      <td>1</td>\n",
       "      <td>148</td>\n",
       "      <td>0</td>\n",
       "      <td>0.4</td>\n",
       "      <td>1</td>\n",
       "      <td>0</td>\n",
       "      <td>1</td>\n",
       "      <td>1</td>\n",
       "    </tr>\n",
       "    <tr>\n",
       "      <th>...</th>\n",
       "      <td>...</td>\n",
       "      <td>...</td>\n",
       "      <td>...</td>\n",
       "      <td>...</td>\n",
       "      <td>...</td>\n",
       "      <td>...</td>\n",
       "      <td>...</td>\n",
       "      <td>...</td>\n",
       "      <td>...</td>\n",
       "      <td>...</td>\n",
       "      <td>...</td>\n",
       "      <td>...</td>\n",
       "      <td>...</td>\n",
       "      <td>...</td>\n",
       "    </tr>\n",
       "    <tr>\n",
       "      <th>293</th>\n",
       "      <td>67</td>\n",
       "      <td>1</td>\n",
       "      <td>2</td>\n",
       "      <td>152</td>\n",
       "      <td>212</td>\n",
       "      <td>0</td>\n",
       "      <td>0</td>\n",
       "      <td>150</td>\n",
       "      <td>0</td>\n",
       "      <td>0.8</td>\n",
       "      <td>1</td>\n",
       "      <td>0</td>\n",
       "      <td>3</td>\n",
       "      <td>0</td>\n",
       "    </tr>\n",
       "    <tr>\n",
       "      <th>295</th>\n",
       "      <td>63</td>\n",
       "      <td>1</td>\n",
       "      <td>0</td>\n",
       "      <td>140</td>\n",
       "      <td>187</td>\n",
       "      <td>0</td>\n",
       "      <td>0</td>\n",
       "      <td>144</td>\n",
       "      <td>1</td>\n",
       "      <td>4.0</td>\n",
       "      <td>2</td>\n",
       "      <td>2</td>\n",
       "      <td>3</td>\n",
       "      <td>0</td>\n",
       "    </tr>\n",
       "    <tr>\n",
       "      <th>298</th>\n",
       "      <td>57</td>\n",
       "      <td>0</td>\n",
       "      <td>0</td>\n",
       "      <td>140</td>\n",
       "      <td>241</td>\n",
       "      <td>0</td>\n",
       "      <td>1</td>\n",
       "      <td>123</td>\n",
       "      <td>1</td>\n",
       "      <td>0.2</td>\n",
       "      <td>1</td>\n",
       "      <td>0</td>\n",
       "      <td>3</td>\n",
       "      <td>0</td>\n",
       "    </tr>\n",
       "    <tr>\n",
       "      <th>299</th>\n",
       "      <td>45</td>\n",
       "      <td>1</td>\n",
       "      <td>3</td>\n",
       "      <td>110</td>\n",
       "      <td>264</td>\n",
       "      <td>0</td>\n",
       "      <td>1</td>\n",
       "      <td>132</td>\n",
       "      <td>0</td>\n",
       "      <td>1.2</td>\n",
       "      <td>1</td>\n",
       "      <td>0</td>\n",
       "      <td>3</td>\n",
       "      <td>0</td>\n",
       "    </tr>\n",
       "    <tr>\n",
       "      <th>300</th>\n",
       "      <td>68</td>\n",
       "      <td>1</td>\n",
       "      <td>0</td>\n",
       "      <td>144</td>\n",
       "      <td>193</td>\n",
       "      <td>1</td>\n",
       "      <td>1</td>\n",
       "      <td>141</td>\n",
       "      <td>0</td>\n",
       "      <td>3.4</td>\n",
       "      <td>1</td>\n",
       "      <td>2</td>\n",
       "      <td>3</td>\n",
       "      <td>0</td>\n",
       "    </tr>\n",
       "  </tbody>\n",
       "</table>\n",
       "<p>211 rows × 14 columns</p>\n",
       "</div>"
      ],
      "text/plain": [
       "     age  sex  chess_pain  blood_pressure  cholestoral  fasting_blood_sugar  \\\n",
       "0     63    1           3             145          233                    1   \n",
       "1     37    1           2             130          250                    0   \n",
       "3     56    1           1             120          236                    0   \n",
       "4     57    0           0             120          354                    0   \n",
       "5     57    1           0             140          192                    0   \n",
       "..   ...  ...         ...             ...          ...                  ...   \n",
       "293   67    1           2             152          212                    0   \n",
       "295   63    1           0             140          187                    0   \n",
       "298   57    0           0             140          241                    0   \n",
       "299   45    1           3             110          264                    0   \n",
       "300   68    1           0             144          193                    1   \n",
       "\n",
       "     electro_results  maximum_heart_rate  angina_induced  oldpeak  slp  \\\n",
       "0                  0                 150               0      2.3    0   \n",
       "1                  1                 187               0      3.5    0   \n",
       "3                  1                 178               0      0.8    2   \n",
       "4                  1                 163               1      0.6    2   \n",
       "5                  1                 148               0      0.4    1   \n",
       "..               ...                 ...             ...      ...  ...   \n",
       "293                0                 150               0      0.8    1   \n",
       "295                0                 144               1      4.0    2   \n",
       "298                1                 123               1      0.2    1   \n",
       "299                1                 132               0      1.2    1   \n",
       "300                1                 141               0      3.4    1   \n",
       "\n",
       "     number_major_vessels  thall  output  \n",
       "0                       0      1       1  \n",
       "1                       0      2       1  \n",
       "3                       0      2       1  \n",
       "4                       0      2       1  \n",
       "5                       0      1       1  \n",
       "..                    ...    ...     ...  \n",
       "293                     0      3       0  \n",
       "295                     2      3       0  \n",
       "298                     0      3       0  \n",
       "299                     0      3       0  \n",
       "300                     2      3       0  \n",
       "\n",
       "[211 rows x 14 columns]"
      ]
     },
     "execution_count": 7,
     "metadata": {},
     "output_type": "execute_result"
    }
   ],
   "source": [
    "df"
   ]
  },
  {
   "cell_type": "markdown",
   "id": "209d5346",
   "metadata": {},
   "source": [
    "### Análisis estadístico"
   ]
  },
  {
   "cell_type": "code",
   "execution_count": 5,
   "id": "1e507836",
   "metadata": {},
   "outputs": [],
   "source": [
    "def frecuencias_cat(df_cat):\n",
    "    resultado = df_cat.apply(lambda x: x.value_counts(normalize = True)).T.stack()\\\n",
    "                .to_frame().reset_index()\\\n",
    "                .rename(columns={'level_0':'Variable','level_1':'Valor',0: \"Frecuencia\"})\\\n",
    "                .sort_values(by = ['Variable','Frecuencia'])\n",
    "    return(resultado)"
   ]
  },
  {
   "cell_type": "code",
   "execution_count": 6,
   "id": "41c44a8e",
   "metadata": {},
   "outputs": [
    {
     "data": {
      "text/html": [
       "<div>\n",
       "<style scoped>\n",
       "    .dataframe tbody tr th:only-of-type {\n",
       "        vertical-align: middle;\n",
       "    }\n",
       "\n",
       "    .dataframe tbody tr th {\n",
       "        vertical-align: top;\n",
       "    }\n",
       "\n",
       "    .dataframe thead th {\n",
       "        text-align: right;\n",
       "    }\n",
       "</style>\n",
       "<table border=\"1\" class=\"dataframe\">\n",
       "  <thead>\n",
       "    <tr style=\"text-align: right;\">\n",
       "      <th></th>\n",
       "      <th>Variable</th>\n",
       "      <th>Valor</th>\n",
       "      <th>Frecuencia</th>\n",
       "    </tr>\n",
       "  </thead>\n",
       "  <tbody>\n",
       "    <tr>\n",
       "      <th>31</th>\n",
       "      <td>consumo</td>\n",
       "      <td>unknown</td>\n",
       "      <td>0.024717</td>\n",
       "    </tr>\n",
       "    <tr>\n",
       "      <th>32</th>\n",
       "      <td>consumo</td>\n",
       "      <td>yes</td>\n",
       "      <td>0.151662</td>\n",
       "    </tr>\n",
       "    <tr>\n",
       "      <th>30</th>\n",
       "      <td>consumo</td>\n",
       "      <td>no</td>\n",
       "      <td>0.823621</td>\n",
       "    </tr>\n",
       "    <tr>\n",
       "      <th>12</th>\n",
       "      <td>estado_civil</td>\n",
       "      <td>OTROS</td>\n",
       "      <td>0.001862</td>\n",
       "    </tr>\n",
       "    <tr>\n",
       "      <th>13</th>\n",
       "      <td>estado_civil</td>\n",
       "      <td>divorced</td>\n",
       "      <td>0.110399</td>\n",
       "    </tr>\n",
       "    <tr>\n",
       "      <th>15</th>\n",
       "      <td>estado_civil</td>\n",
       "      <td>single</td>\n",
       "      <td>0.280418</td>\n",
       "    </tr>\n",
       "    <tr>\n",
       "      <th>14</th>\n",
       "      <td>estado_civil</td>\n",
       "      <td>married</td>\n",
       "      <td>0.607322</td>\n",
       "    </tr>\n",
       "    <tr>\n",
       "      <th>20</th>\n",
       "      <td>formacion</td>\n",
       "      <td>illiterate</td>\n",
       "      <td>0.000465</td>\n",
       "    </tr>\n",
       "    <tr>\n",
       "      <th>23</th>\n",
       "      <td>formacion</td>\n",
       "      <td>unknown</td>\n",
       "      <td>0.037075</td>\n",
       "    </tr>\n",
       "    <tr>\n",
       "      <th>17</th>\n",
       "      <td>formacion</td>\n",
       "      <td>basic.6y</td>\n",
       "      <td>0.048917</td>\n",
       "    </tr>\n",
       "    <tr>\n",
       "      <th>16</th>\n",
       "      <td>formacion</td>\n",
       "      <td>basic.4y</td>\n",
       "      <td>0.086406</td>\n",
       "    </tr>\n",
       "    <tr>\n",
       "      <th>21</th>\n",
       "      <td>formacion</td>\n",
       "      <td>professional.course</td>\n",
       "      <td>0.112519</td>\n",
       "    </tr>\n",
       "    <tr>\n",
       "      <th>18</th>\n",
       "      <td>formacion</td>\n",
       "      <td>basic.9y</td>\n",
       "      <td>0.130358</td>\n",
       "    </tr>\n",
       "    <tr>\n",
       "      <th>19</th>\n",
       "      <td>formacion</td>\n",
       "      <td>high.school</td>\n",
       "      <td>0.201665</td>\n",
       "    </tr>\n",
       "    <tr>\n",
       "      <th>22</th>\n",
       "      <td>formacion</td>\n",
       "      <td>university.degree</td>\n",
       "      <td>0.382595</td>\n",
       "    </tr>\n",
       "    <tr>\n",
       "      <th>28</th>\n",
       "      <td>hipoteca</td>\n",
       "      <td>unknown</td>\n",
       "      <td>0.024717</td>\n",
       "    </tr>\n",
       "    <tr>\n",
       "      <th>27</th>\n",
       "      <td>hipoteca</td>\n",
       "      <td>no</td>\n",
       "      <td>0.451057</td>\n",
       "    </tr>\n",
       "    <tr>\n",
       "      <th>29</th>\n",
       "      <td>hipoteca</td>\n",
       "      <td>yes</td>\n",
       "      <td>0.524226</td>\n",
       "    </tr>\n",
       "    <tr>\n",
       "      <th>26</th>\n",
       "      <td>impago</td>\n",
       "      <td>yes</td>\n",
       "      <td>0.000052</td>\n",
       "    </tr>\n",
       "    <tr>\n",
       "      <th>25</th>\n",
       "      <td>impago</td>\n",
       "      <td>unknown</td>\n",
       "      <td>0.207715</td>\n",
       "    </tr>\n",
       "    <tr>\n",
       "      <th>24</th>\n",
       "      <td>impago</td>\n",
       "      <td>no</td>\n",
       "      <td>0.792233</td>\n",
       "    </tr>\n",
       "    <tr>\n",
       "      <th>35</th>\n",
       "      <td>mes</td>\n",
       "      <td>dec</td>\n",
       "      <td>0.004499</td>\n",
       "    </tr>\n",
       "    <tr>\n",
       "      <th>38</th>\n",
       "      <td>mes</td>\n",
       "      <td>mar</td>\n",
       "      <td>0.012565</td>\n",
       "    </tr>\n",
       "    <tr>\n",
       "      <th>42</th>\n",
       "      <td>mes</td>\n",
       "      <td>sep</td>\n",
       "      <td>0.014323</td>\n",
       "    </tr>\n",
       "    <tr>\n",
       "      <th>41</th>\n",
       "      <td>mes</td>\n",
       "      <td>oct</td>\n",
       "      <td>0.018357</td>\n",
       "    </tr>\n",
       "    <tr>\n",
       "      <th>33</th>\n",
       "      <td>mes</td>\n",
       "      <td>apr</td>\n",
       "      <td>0.065205</td>\n",
       "    </tr>\n",
       "    <tr>\n",
       "      <th>40</th>\n",
       "      <td>mes</td>\n",
       "      <td>nov</td>\n",
       "      <td>0.100781</td>\n",
       "    </tr>\n",
       "    <tr>\n",
       "      <th>37</th>\n",
       "      <td>mes</td>\n",
       "      <td>jun</td>\n",
       "      <td>0.129583</td>\n",
       "    </tr>\n",
       "    <tr>\n",
       "      <th>34</th>\n",
       "      <td>mes</td>\n",
       "      <td>aug</td>\n",
       "      <td>0.149336</td>\n",
       "    </tr>\n",
       "    <tr>\n",
       "      <th>36</th>\n",
       "      <td>mes</td>\n",
       "      <td>jul</td>\n",
       "      <td>0.168726</td>\n",
       "    </tr>\n",
       "    <tr>\n",
       "      <th>39</th>\n",
       "      <td>mes</td>\n",
       "      <td>may</td>\n",
       "      <td>0.336625</td>\n",
       "    </tr>\n",
       "    <tr>\n",
       "      <th>45</th>\n",
       "      <td>resultado_campana_anterior</td>\n",
       "      <td>success</td>\n",
       "      <td>0.033042</td>\n",
       "    </tr>\n",
       "    <tr>\n",
       "      <th>43</th>\n",
       "      <td>resultado_campana_anterior</td>\n",
       "      <td>failure</td>\n",
       "      <td>0.106107</td>\n",
       "    </tr>\n",
       "    <tr>\n",
       "      <th>44</th>\n",
       "      <td>resultado_campana_anterior</td>\n",
       "      <td>nonexistent</td>\n",
       "      <td>0.860851</td>\n",
       "    </tr>\n",
       "    <tr>\n",
       "      <th>0</th>\n",
       "      <td>trabajo</td>\n",
       "      <td>OTROS</td>\n",
       "      <td>0.008325</td>\n",
       "    </tr>\n",
       "    <tr>\n",
       "      <th>9</th>\n",
       "      <td>trabajo</td>\n",
       "      <td>student</td>\n",
       "      <td>0.021304</td>\n",
       "    </tr>\n",
       "    <tr>\n",
       "      <th>4</th>\n",
       "      <td>trabajo</td>\n",
       "      <td>housemaid</td>\n",
       "      <td>0.025286</td>\n",
       "    </tr>\n",
       "    <tr>\n",
       "      <th>11</th>\n",
       "      <td>trabajo</td>\n",
       "      <td>unemployed</td>\n",
       "      <td>0.025286</td>\n",
       "    </tr>\n",
       "    <tr>\n",
       "      <th>7</th>\n",
       "      <td>trabajo</td>\n",
       "      <td>self-employed</td>\n",
       "      <td>0.035007</td>\n",
       "    </tr>\n",
       "    <tr>\n",
       "      <th>3</th>\n",
       "      <td>trabajo</td>\n",
       "      <td>entrepreneur</td>\n",
       "      <td>0.035524</td>\n",
       "    </tr>\n",
       "    <tr>\n",
       "      <th>6</th>\n",
       "      <td>trabajo</td>\n",
       "      <td>retired</td>\n",
       "      <td>0.039764</td>\n",
       "    </tr>\n",
       "    <tr>\n",
       "      <th>5</th>\n",
       "      <td>trabajo</td>\n",
       "      <td>management</td>\n",
       "      <td>0.071514</td>\n",
       "    </tr>\n",
       "    <tr>\n",
       "      <th>8</th>\n",
       "      <td>trabajo</td>\n",
       "      <td>services</td>\n",
       "      <td>0.098816</td>\n",
       "    </tr>\n",
       "    <tr>\n",
       "      <th>10</th>\n",
       "      <td>trabajo</td>\n",
       "      <td>technician</td>\n",
       "      <td>0.161022</td>\n",
       "    </tr>\n",
       "    <tr>\n",
       "      <th>2</th>\n",
       "      <td>trabajo</td>\n",
       "      <td>blue-collar</td>\n",
       "      <td>0.225451</td>\n",
       "    </tr>\n",
       "    <tr>\n",
       "      <th>1</th>\n",
       "      <td>trabajo</td>\n",
       "      <td>admin.</td>\n",
       "      <td>0.252702</td>\n",
       "    </tr>\n",
       "  </tbody>\n",
       "</table>\n",
       "</div>"
      ],
      "text/plain": [
       "                      Variable                Valor  Frecuencia\n",
       "31                     consumo              unknown    0.024717\n",
       "32                     consumo                  yes    0.151662\n",
       "30                     consumo                   no    0.823621\n",
       "12                estado_civil                OTROS    0.001862\n",
       "13                estado_civil             divorced    0.110399\n",
       "15                estado_civil               single    0.280418\n",
       "14                estado_civil              married    0.607322\n",
       "20                   formacion           illiterate    0.000465\n",
       "23                   formacion              unknown    0.037075\n",
       "17                   formacion             basic.6y    0.048917\n",
       "16                   formacion             basic.4y    0.086406\n",
       "21                   formacion  professional.course    0.112519\n",
       "18                   formacion             basic.9y    0.130358\n",
       "19                   formacion          high.school    0.201665\n",
       "22                   formacion    university.degree    0.382595\n",
       "28                    hipoteca              unknown    0.024717\n",
       "27                    hipoteca                   no    0.451057\n",
       "29                    hipoteca                  yes    0.524226\n",
       "26                      impago                  yes    0.000052\n",
       "25                      impago              unknown    0.207715\n",
       "24                      impago                   no    0.792233\n",
       "35                         mes                  dec    0.004499\n",
       "38                         mes                  mar    0.012565\n",
       "42                         mes                  sep    0.014323\n",
       "41                         mes                  oct    0.018357\n",
       "33                         mes                  apr    0.065205\n",
       "40                         mes                  nov    0.100781\n",
       "37                         mes                  jun    0.129583\n",
       "34                         mes                  aug    0.149336\n",
       "36                         mes                  jul    0.168726\n",
       "39                         mes                  may    0.336625\n",
       "45  resultado_campana_anterior              success    0.033042\n",
       "43  resultado_campana_anterior              failure    0.106107\n",
       "44  resultado_campana_anterior          nonexistent    0.860851\n",
       "0                      trabajo                OTROS    0.008325\n",
       "9                      trabajo              student    0.021304\n",
       "4                      trabajo            housemaid    0.025286\n",
       "11                     trabajo           unemployed    0.025286\n",
       "7                      trabajo        self-employed    0.035007\n",
       "3                      trabajo         entrepreneur    0.035524\n",
       "6                      trabajo              retired    0.039764\n",
       "5                      trabajo           management    0.071514\n",
       "8                      trabajo             services    0.098816\n",
       "10                     trabajo           technician    0.161022\n",
       "2                      trabajo          blue-collar    0.225451\n",
       "1                      trabajo               admin.    0.252702"
      ]
     },
     "execution_count": 6,
     "metadata": {},
     "output_type": "execute_result"
    }
   ],
   "source": [
    "frecuencias_cat(cat)"
   ]
  },
  {
   "cell_type": "markdown",
   "id": "f28ee614",
   "metadata": {},
   "source": [
    "### Análisis gráfico"
   ]
  },
  {
   "cell_type": "code",
   "execution_count": 7,
   "id": "253deffa",
   "metadata": {},
   "outputs": [],
   "source": [
    "def graficos_eda_categoricos(cat):\n",
    "    \n",
    "    #Calculamos el número de filas que necesitamos\n",
    "    from math import ceil\n",
    "    filas = ceil(cat.shape[1] / 2)\n",
    "\n",
    "    #Definimos el gráfico\n",
    "    f, ax = plt.subplots(nrows = filas, ncols = 2, figsize = (16, filas * 6))\n",
    "\n",
    "    #Aplanamos para iterar por el gráfico como si fuera de 1 dimensión en lugar de 2\n",
    "    ax = ax.flat \n",
    "\n",
    "    #Creamos el bucle que va añadiendo gráficos\n",
    "    for cada, variable in enumerate(cat):\n",
    "        cat[variable].value_counts().plot.barh(ax = ax[cada])\n",
    "        ax[cada].set_title(variable, fontsize = 12, fontweight = \"bold\")\n",
    "        ax[cada].tick_params(labelsize = 12)"
   ]
  },
  {
   "cell_type": "code",
   "execution_count": 8,
   "id": "338e8a97",
   "metadata": {
    "scrolled": true
   },
   "outputs": [
    {
     "data": {
      "image/png": "[encoded data removed]",
      "text/plain": [
       "<Figure size 1152x1728 with 8 Axes>"
      ]
     },
     "metadata": {
      "needs_background": "light"
     },
     "output_type": "display_data"
    }
   ],
   "source": [
    "graficos_eda_categoricos(cat)"
   ]
  },
  {
   "cell_type": "markdown",
   "id": "1f2c65be",
   "metadata": {},
   "source": [
    "## EDA NUMÉRICAS"
   ]
  },
  {
   "cell_type": "markdown",
   "id": "7ed46011",
   "metadata": {},
   "source": [
    "### Análisis estadístico"
   ]
  },
  {
   "cell_type": "code",
   "execution_count": 8,
   "id": "77dfb613",
   "metadata": {},
   "outputs": [],
   "source": [
    "def estadisticos_cont(df):\n",
    "    #Calculamos describe\n",
    "    estadisticos = df.describe().T\n",
    "    #Añadimos la mediana\n",
    "    estadisticos['median'] = df.median()\n",
    "    #Reordenamos para que la mediana esté al lado de la media\n",
    "    estadisticos = estadisticos.iloc[:,[0,1,8,2,3,4,5,6,7]]\n",
    "    #Lo devolvemos\n",
    "    return(estadisticos)"
   ]
  },
  {
   "cell_type": "code",
   "execution_count": 9,
   "id": "62879e89",
   "metadata": {},
   "outputs": [
    {
     "data": {
      "text/html": [
       "<div>\n",
       "<style scoped>\n",
       "    .dataframe tbody tr th:only-of-type {\n",
       "        vertical-align: middle;\n",
       "    }\n",
       "\n",
       "    .dataframe tbody tr th {\n",
       "        vertical-align: top;\n",
       "    }\n",
       "\n",
       "    .dataframe thead th {\n",
       "        text-align: right;\n",
       "    }\n",
       "</style>\n",
       "<table border=\"1\" class=\"dataframe\">\n",
       "  <thead>\n",
       "    <tr style=\"text-align: right;\">\n",
       "      <th></th>\n",
       "      <th>count</th>\n",
       "      <th>mean</th>\n",
       "      <th>median</th>\n",
       "      <th>std</th>\n",
       "      <th>min</th>\n",
       "      <th>25%</th>\n",
       "      <th>50%</th>\n",
       "      <th>75%</th>\n",
       "      <th>max</th>\n",
       "    </tr>\n",
       "  </thead>\n",
       "  <tbody>\n",
       "    <tr>\n",
       "      <th>age</th>\n",
       "      <td>211.0</td>\n",
       "      <td>54.028436</td>\n",
       "      <td>55.0</td>\n",
       "      <td>9.337541</td>\n",
       "      <td>29.0</td>\n",
       "      <td>47.0</td>\n",
       "      <td>55.0</td>\n",
       "      <td>60.0</td>\n",
       "      <td>77.0</td>\n",
       "    </tr>\n",
       "    <tr>\n",
       "      <th>sex</th>\n",
       "      <td>211.0</td>\n",
       "      <td>0.720379</td>\n",
       "      <td>1.0</td>\n",
       "      <td>0.449880</td>\n",
       "      <td>0.0</td>\n",
       "      <td>0.0</td>\n",
       "      <td>1.0</td>\n",
       "      <td>1.0</td>\n",
       "      <td>1.0</td>\n",
       "    </tr>\n",
       "    <tr>\n",
       "      <th>chess_pain</th>\n",
       "      <td>211.0</td>\n",
       "      <td>0.947867</td>\n",
       "      <td>1.0</td>\n",
       "      <td>1.033778</td>\n",
       "      <td>0.0</td>\n",
       "      <td>0.0</td>\n",
       "      <td>1.0</td>\n",
       "      <td>2.0</td>\n",
       "      <td>3.0</td>\n",
       "    </tr>\n",
       "    <tr>\n",
       "      <th>blood_pressure</th>\n",
       "      <td>211.0</td>\n",
       "      <td>131.218009</td>\n",
       "      <td>130.0</td>\n",
       "      <td>17.155864</td>\n",
       "      <td>94.0</td>\n",
       "      <td>120.0</td>\n",
       "      <td>130.0</td>\n",
       "      <td>140.0</td>\n",
       "      <td>200.0</td>\n",
       "    </tr>\n",
       "    <tr>\n",
       "      <th>cholestoral</th>\n",
       "      <td>211.0</td>\n",
       "      <td>249.052133</td>\n",
       "      <td>243.0</td>\n",
       "      <td>54.163967</td>\n",
       "      <td>126.0</td>\n",
       "      <td>214.0</td>\n",
       "      <td>243.0</td>\n",
       "      <td>278.5</td>\n",
       "      <td>564.0</td>\n",
       "    </tr>\n",
       "    <tr>\n",
       "      <th>fasting_blood_sugar</th>\n",
       "      <td>211.0</td>\n",
       "      <td>0.151659</td>\n",
       "      <td>0.0</td>\n",
       "      <td>0.359543</td>\n",
       "      <td>0.0</td>\n",
       "      <td>0.0</td>\n",
       "      <td>0.0</td>\n",
       "      <td>0.0</td>\n",
       "      <td>1.0</td>\n",
       "    </tr>\n",
       "    <tr>\n",
       "      <th>electro_results</th>\n",
       "      <td>211.0</td>\n",
       "      <td>0.554502</td>\n",
       "      <td>1.0</td>\n",
       "      <td>0.526096</td>\n",
       "      <td>0.0</td>\n",
       "      <td>0.0</td>\n",
       "      <td>1.0</td>\n",
       "      <td>1.0</td>\n",
       "      <td>2.0</td>\n",
       "    </tr>\n",
       "    <tr>\n",
       "      <th>maximum_heart_rate</th>\n",
       "      <td>211.0</td>\n",
       "      <td>149.881517</td>\n",
       "      <td>153.0</td>\n",
       "      <td>22.919116</td>\n",
       "      <td>71.0</td>\n",
       "      <td>133.0</td>\n",
       "      <td>153.0</td>\n",
       "      <td>165.5</td>\n",
       "      <td>202.0</td>\n",
       "    </tr>\n",
       "    <tr>\n",
       "      <th>angina_induced</th>\n",
       "      <td>211.0</td>\n",
       "      <td>0.331754</td>\n",
       "      <td>0.0</td>\n",
       "      <td>0.471963</td>\n",
       "      <td>0.0</td>\n",
       "      <td>0.0</td>\n",
       "      <td>0.0</td>\n",
       "      <td>1.0</td>\n",
       "      <td>1.0</td>\n",
       "    </tr>\n",
       "    <tr>\n",
       "      <th>oldpeak</th>\n",
       "      <td>211.0</td>\n",
       "      <td>1.042654</td>\n",
       "      <td>0.8</td>\n",
       "      <td>1.162870</td>\n",
       "      <td>0.0</td>\n",
       "      <td>0.0</td>\n",
       "      <td>0.8</td>\n",
       "      <td>1.7</td>\n",
       "      <td>5.6</td>\n",
       "    </tr>\n",
       "    <tr>\n",
       "      <th>slp</th>\n",
       "      <td>211.0</td>\n",
       "      <td>1.383886</td>\n",
       "      <td>1.0</td>\n",
       "      <td>0.616848</td>\n",
       "      <td>0.0</td>\n",
       "      <td>1.0</td>\n",
       "      <td>1.0</td>\n",
       "      <td>2.0</td>\n",
       "      <td>2.0</td>\n",
       "    </tr>\n",
       "    <tr>\n",
       "      <th>number_major_vessels</th>\n",
       "      <td>211.0</td>\n",
       "      <td>0.668246</td>\n",
       "      <td>0.0</td>\n",
       "      <td>0.982653</td>\n",
       "      <td>0.0</td>\n",
       "      <td>0.0</td>\n",
       "      <td>0.0</td>\n",
       "      <td>1.0</td>\n",
       "      <td>3.0</td>\n",
       "    </tr>\n",
       "    <tr>\n",
       "      <th>thall</th>\n",
       "      <td>211.0</td>\n",
       "      <td>2.336493</td>\n",
       "      <td>2.0</td>\n",
       "      <td>0.605959</td>\n",
       "      <td>1.0</td>\n",
       "      <td>2.0</td>\n",
       "      <td>2.0</td>\n",
       "      <td>3.0</td>\n",
       "      <td>3.0</td>\n",
       "    </tr>\n",
       "    <tr>\n",
       "      <th>output</th>\n",
       "      <td>211.0</td>\n",
       "      <td>0.540284</td>\n",
       "      <td>1.0</td>\n",
       "      <td>0.499560</td>\n",
       "      <td>0.0</td>\n",
       "      <td>0.0</td>\n",
       "      <td>1.0</td>\n",
       "      <td>1.0</td>\n",
       "      <td>1.0</td>\n",
       "    </tr>\n",
       "  </tbody>\n",
       "</table>\n",
       "</div>"
      ],
      "text/plain": [
       "                      count        mean  median        std    min    25%  \\\n",
       "age                   211.0   54.028436    55.0   9.337541   29.0   47.0   \n",
       "sex                   211.0    0.720379     1.0   0.449880    0.0    0.0   \n",
       "chess_pain            211.0    0.947867     1.0   1.033778    0.0    0.0   \n",
       "blood_pressure        211.0  131.218009   130.0  17.155864   94.0  120.0   \n",
       "cholestoral           211.0  249.052133   243.0  54.163967  126.0  214.0   \n",
       "fasting_blood_sugar   211.0    0.151659     0.0   0.359543    0.0    0.0   \n",
       "electro_results       211.0    0.554502     1.0   0.526096    0.0    0.0   \n",
       "maximum_heart_rate    211.0  149.881517   153.0  22.919116   71.0  133.0   \n",
       "angina_induced        211.0    0.331754     0.0   0.471963    0.0    0.0   \n",
       "oldpeak               211.0    1.042654     0.8   1.162870    0.0    0.0   \n",
       "slp                   211.0    1.383886     1.0   0.616848    0.0    1.0   \n",
       "number_major_vessels  211.0    0.668246     0.0   0.982653    0.0    0.0   \n",
       "thall                 211.0    2.336493     2.0   0.605959    1.0    2.0   \n",
       "output                211.0    0.540284     1.0   0.499560    0.0    0.0   \n",
       "\n",
       "                        50%    75%    max  \n",
       "age                    55.0   60.0   77.0  \n",
       "sex                     1.0    1.0    1.0  \n",
       "chess_pain              1.0    2.0    3.0  \n",
       "blood_pressure        130.0  140.0  200.0  \n",
       "cholestoral           243.0  278.5  564.0  \n",
       "fasting_blood_sugar     0.0    0.0    1.0  \n",
       "electro_results         1.0    1.0    2.0  \n",
       "maximum_heart_rate    153.0  165.5  202.0  \n",
       "angina_induced          0.0    1.0    1.0  \n",
       "oldpeak                 0.8    1.7    5.6  \n",
       "slp                     1.0    2.0    2.0  \n",
       "number_major_vessels    0.0    1.0    3.0  \n",
       "thall                   2.0    3.0    3.0  \n",
       "output                  1.0    1.0    1.0  "
      ]
     },
     "execution_count": 9,
     "metadata": {},
     "output_type": "execute_result"
    }
   ],
   "source": [
    "estadisticos_cont(df)"
   ]
  },
  {
   "cell_type": "markdown",
   "id": "d2296b1b",
   "metadata": {},
   "source": [
    "### Análisis gráfico"
   ]
  },
  {
   "cell_type": "code",
   "execution_count": 10,
   "id": "b786e69c",
   "metadata": {},
   "outputs": [],
   "source": [
    "def graficos_eda_continuas(df):\n",
    "    \n",
    "    #Calculamos el número de fila que necesitamos\n",
    "    from math import ceil\n",
    "    filas = ceil(df.shape[1] / 2)\n",
    "\n",
    "    #Definimos el gráfico\n",
    "    f, ax = plt.subplots(nrows = filas, ncols = 2, figsize = (16, filas * 6))\n",
    "\n",
    "    #Aplanamos para iterar por el gráfico como si fuera de 1 dimensión en lugar de 2\n",
    "    ax = ax.flat \n",
    "\n",
    "    #Creamos el bucle que va añadiendo gráficos\n",
    "    for cada, variable in enumerate(df):\n",
    "        df[variable].plot.density(ax = ax[cada])\n",
    "        ax[cada].set_title(variable, fontsize = 12, fontweight = \"bold\")\n",
    "        ax[cada].tick_params(labelsize = 12)"
   ]
  },
  {
   "cell_type": "code",
   "execution_count": 11,
   "id": "44d09d2a",
   "metadata": {},
   "outputs": [
    {
     "data": {
      "image/png": "[encoded data removed]",
      "text/plain": [
       "<Figure size 1152x3024 with 14 Axes>"
      ]
     },
     "metadata": {
      "needs_background": "light"
     },
     "output_type": "display_data"
    }
   ],
   "source": [
    "graficos_eda_continuas(df)"
   ]
  },
  {
   "cell_type": "markdown",
   "id": "87434e0c",
   "metadata": {},
   "source": [
    "## GUARDAR DATASETS TRAS CALIDAD DE DATOS"
   ]
  },
  {
   "cell_type": "code",
   "execution_count": 14,
   "id": "782bf43c",
   "metadata": {},
   "outputs": [],
   "source": [
    "#Definir los nombres de los archivos\n",
    "ruta_df = ruta_proyecto + '/02_Datos/03_Trabajo/' + 'df_resultado_eda.pickle'"
   ]
  },
  {
   "cell_type": "code",
   "execution_count": 15,
   "id": "44c7dd60",
   "metadata": {},
   "outputs": [],
   "source": [
    "#Guardar los archivos\n",
    "df.to_pickle(ruta_df)"
   ]
  },
  {
   "cell_type": "markdown",
   "id": "ca1499a2",
   "metadata": {
    "jp-MarkdownHeadingCollapsed": true
   },
   "source": [
    "# 📊 PRESELECCIÓN DE VARIABLES"
   ]
  },
  {
   "cell_type": "markdown",
   "id": "fc4c6340",
   "metadata": {
    "jp-MarkdownHeadingCollapsed": true
   },
   "source": [
    "## IMPORTAR PAQUETES"
   ]
  },
  {
   "cell_type": "code",
   "execution_count": 1,
   "id": "6994433b",
   "metadata": {},
   "outputs": [
    {
     "name": "stderr",
     "output_type": "stream",
     "text": [
      "C:\\Users\\Ricardo\\miniconda3\\envs\\heart\\lib\\site-packages\\xgboost\\compat.py:36: FutureWarning: pandas.Int64Index is deprecated and will be removed from pandas in a future version. Use pandas.Index with the appropriate dtype instead.\n",
      "  from pandas import MultiIndex, Int64Index\n"
     ]
    }
   ],
   "source": [
    "import numpy as np\n",
    "import pandas as pd\n",
    "import matplotlib.pyplot as plt\n",
    "%matplotlib inline\n",
    "\n",
    "from sklearn.feature_selection import mutual_info_classif\n",
    "from sklearn.feature_selection import mutual_info_regression\n",
    "from sklearn.feature_selection import RFE\n",
    "from xgboost import XGBClassifier\n",
    "from xgboost import XGBRegressor\n",
    "from sklearn.inspection import permutation_importance\n",
    "\n",
    "\n",
    "#Automcompletar rápido\n",
    "%config IPCompleter.greedy=True"
   ]
  },
  {
   "cell_type": "markdown",
   "id": "7f8255dd",
   "metadata": {
    "jp-MarkdownHeadingCollapsed": true
   },
   "source": [
    "## IMPORTAR LOS DATOS"
   ]
  },
  {
   "cell_type": "code",
   "execution_count": 2,
   "id": "5c25064b",
   "metadata": {},
   "outputs": [],
   "source": [
    "ruta_proyecto = 'C:/Users/Ricardo/Desktop/Portfolio/Heart'"
   ]
  },
  {
   "cell_type": "code",
   "execution_count": 3,
   "id": "c0690c24",
   "metadata": {},
   "outputs": [],
   "source": [
    "nombre_df = 'df_resultado_eda.pickle'"
   ]
  },
  {
   "cell_type": "code",
   "execution_count": 4,
   "id": "cb0a9414",
   "metadata": {},
   "outputs": [],
   "source": [
    "df = pd.read_pickle(ruta_proyecto + '/02_Datos/03_Trabajo/' + nombre_df)"
   ]
  },
  {
   "cell_type": "code",
   "execution_count": 6,
   "id": "53ad97e3-70ba-48fa-b072-759edd9817d3",
   "metadata": {},
   "outputs": [
    {
     "name": "stdout",
     "output_type": "stream",
     "text": [
      "<class 'pandas.core.frame.DataFrame'>\n",
      "Int64Index: 211 entries, 0 to 300\n",
      "Data columns (total 14 columns):\n",
      " #   Column                Non-Null Count  Dtype  \n",
      "---  ------                --------------  -----  \n",
      " 0   age                   211 non-null    int64  \n",
      " 1   sex                   211 non-null    int64  \n",
      " 2   chess_pain            211 non-null    int64  \n",
      " 3   blood_pressure        211 non-null    int64  \n",
      " 4   cholestoral           211 non-null    int64  \n",
      " 5   fasting_blood_sugar   211 non-null    int64  \n",
      " 6   electro_results       211 non-null    int64  \n",
      " 7   maximum_heart_rate    211 non-null    int64  \n",
      " 8   angina_induced        211 non-null    int64  \n",
      " 9   oldpeak               211 non-null    float64\n",
      " 10  slp                   211 non-null    int64  \n",
      " 11  number_major_vessels  211 non-null    int64  \n",
      " 12  thall                 211 non-null    int64  \n",
      " 13  output                211 non-null    int64  \n",
      "dtypes: float64(1), int64(13)\n",
      "memory usage: 24.7 KB\n"
     ]
    }
   ],
   "source": [
    "df.info()"
   ]
  },
  {
   "cell_type": "markdown",
   "id": "1f02b7d3",
   "metadata": {},
   "source": [
    "## MÉTODOS SUPERVISADOS"
   ]
  },
  {
   "cell_type": "markdown",
   "id": "eaf43a2a",
   "metadata": {
    "jp-MarkdownHeadingCollapsed": true
   },
   "source": [
    "### Preparar x e y"
   ]
  },
  {
   "cell_type": "code",
   "execution_count": 7,
   "id": "71f5e056",
   "metadata": {},
   "outputs": [],
   "source": [
    "target = 'output'\n",
    "x = df.drop(columns = target).copy()\n",
    "y =  df[target].copy()"
   ]
  },
  {
   "cell_type": "markdown",
   "id": "80356ca1",
   "metadata": {},
   "source": [
    "### Mutual Information"
   ]
  },
  {
   "cell_type": "markdown",
   "id": "b54a5fcd",
   "metadata": {},
   "source": [
    "#### Crear una función para mostrar el resultado"
   ]
  },
  {
   "cell_type": "code",
   "execution_count": 8,
   "id": "f42f8d51",
   "metadata": {},
   "outputs": [],
   "source": [
    "def ranking_mi(mutual_selector, modo = 'tabla'):\n",
    "    #Maqueta el ranking\n",
    "    ranking_mi = pd.DataFrame(mutual_selector, index = x.columns).reset_index()\n",
    "    ranking_mi.columns = ['variable','importancia_mi']\n",
    "    ranking_mi = ranking_mi.sort_values(by = 'importancia_mi', ascending = False)\n",
    "    ranking_mi['ranking_mi'] = np.arange(0,ranking_mi.shape[0])\n",
    "    #Muestra la salida\n",
    "    if modo == 'tabla':\n",
    "        return(ranking_mi)\n",
    "    else:\n",
    "        g = ranking_mi.importancia_mi.sort_values().plot.barh(figsize = (12,20))\n",
    "        g.set_yticklabels(ranking_mi.sort_values(by = 'importancia_mi').variable)\n",
    "        return(g)"
   ]
  },
  {
   "cell_type": "markdown",
   "id": "3de36320",
   "metadata": {},
   "source": [
    "#### Calcular y revisar"
   ]
  },
  {
   "cell_type": "code",
   "execution_count": 9,
   "id": "9bd19c38",
   "metadata": {},
   "outputs": [
    {
     "data": {
      "image/png": "[encoded data removed]",
      "text/plain": [
       "<Figure size 864x1440 with 1 Axes>"
      ]
     },
     "metadata": {
      "needs_background": "light"
     },
     "output_type": "display_data"
    }
   ],
   "source": [
    "mutual_selector = mutual_info_classif(x,y)\n",
    "\n",
    "rank_mi = ranking_mi(mutual_selector, modo = 'grafico')"
   ]
  },
  {
   "cell_type": "markdown",
   "id": "ce5df9e6",
   "metadata": {
    "jp-MarkdownHeadingCollapsed": true
   },
   "source": [
    "#### Seleccionar las variables que pasan"
   ]
  },
  {
   "cell_type": "code",
   "execution_count": 21,
   "id": "811cb8b4",
   "metadata": {},
   "outputs": [],
   "source": [
    "posicion_variable_limite = 10"
   ]
  },
  {
   "cell_type": "markdown",
   "id": "8d1250a9",
   "metadata": {},
   "source": [
    "##### Extraer los nombres de las que entran"
   ]
  },
  {
   "cell_type": "code",
   "execution_count": 22,
   "id": "40183952",
   "metadata": {},
   "outputs": [],
   "source": [
    "entran_mi = ranking_mi(mutual_selector).iloc[0:posicion_variable_limite].variable"
   ]
  },
  {
   "cell_type": "markdown",
   "id": "96d5e3c2",
   "metadata": {},
   "source": [
    "##### Crear el dataframe con la selección"
   ]
  },
  {
   "cell_type": "code",
   "execution_count": 23,
   "id": "8bae3be8",
   "metadata": {},
   "outputs": [],
   "source": [
    "x_mi = x[entran_mi].copy()"
   ]
  },
  {
   "cell_type": "markdown",
   "id": "81764cb5",
   "metadata": {},
   "source": [
    "### Recursive Feature Elimination"
   ]
  },
  {
   "cell_type": "markdown",
   "id": "d14432f9",
   "metadata": {},
   "source": [
    "#### Instanciar"
   ]
  },
  {
   "cell_type": "code",
   "execution_count": 13,
   "id": "3df12ccf",
   "metadata": {},
   "outputs": [],
   "source": [
    "rfe = RFE(estimator = XGBClassifier( n_jobs = -1, eval_metric='auc'))"
   ]
  },
  {
   "cell_type": "markdown",
   "id": "0d2b1306",
   "metadata": {},
   "source": [
    "#### Entrenar"
   ]
  },
  {
   "cell_type": "code",
   "execution_count": 14,
   "id": "c85b9d2f",
   "metadata": {},
   "outputs": [
    {
     "name": "stderr",
     "output_type": "stream",
     "text": [
      "C:\\Users\\Ricardo\\miniconda3\\envs\\heart\\lib\\site-packages\\xgboost\\sklearn.py:1224: UserWarning: The use of label encoder in XGBClassifier is deprecated and will be removed in a future release. To remove this warning, do the following: 1) Pass option use_label_encoder=False when constructing XGBClassifier object; and 2) Encode your labels (y) as integers starting with 0, i.e. 0, 1, 2, ..., [num_class - 1].\n",
      "  warnings.warn(label_encoder_deprecation_msg, UserWarning)\n",
      "C:\\Users\\Ricardo\\miniconda3\\envs\\heart\\lib\\site-packages\\xgboost\\sklearn.py:1224: UserWarning: The use of label encoder in XGBClassifier is deprecated and will be removed in a future release. To remove this warning, do the following: 1) Pass option use_label_encoder=False when constructing XGBClassifier object; and 2) Encode your labels (y) as integers starting with 0, i.e. 0, 1, 2, ..., [num_class - 1].\n",
      "  warnings.warn(label_encoder_deprecation_msg, UserWarning)\n",
      "C:\\Users\\Ricardo\\miniconda3\\envs\\heart\\lib\\site-packages\\xgboost\\sklearn.py:1224: UserWarning: The use of label encoder in XGBClassifier is deprecated and will be removed in a future release. To remove this warning, do the following: 1) Pass option use_label_encoder=False when constructing XGBClassifier object; and 2) Encode your labels (y) as integers starting with 0, i.e. 0, 1, 2, ..., [num_class - 1].\n",
      "  warnings.warn(label_encoder_deprecation_msg, UserWarning)\n",
      "C:\\Users\\Ricardo\\miniconda3\\envs\\heart\\lib\\site-packages\\xgboost\\sklearn.py:1224: UserWarning: The use of label encoder in XGBClassifier is deprecated and will be removed in a future release. To remove this warning, do the following: 1) Pass option use_label_encoder=False when constructing XGBClassifier object; and 2) Encode your labels (y) as integers starting with 0, i.e. 0, 1, 2, ..., [num_class - 1].\n",
      "  warnings.warn(label_encoder_deprecation_msg, UserWarning)\n",
      "C:\\Users\\Ricardo\\miniconda3\\envs\\heart\\lib\\site-packages\\xgboost\\sklearn.py:1224: UserWarning: The use of label encoder in XGBClassifier is deprecated and will be removed in a future release. To remove this warning, do the following: 1) Pass option use_label_encoder=False when constructing XGBClassifier object; and 2) Encode your labels (y) as integers starting with 0, i.e. 0, 1, 2, ..., [num_class - 1].\n",
      "  warnings.warn(label_encoder_deprecation_msg, UserWarning)\n",
      "C:\\Users\\Ricardo\\miniconda3\\envs\\heart\\lib\\site-packages\\xgboost\\sklearn.py:1224: UserWarning: The use of label encoder in XGBClassifier is deprecated and will be removed in a future release. To remove this warning, do the following: 1) Pass option use_label_encoder=False when constructing XGBClassifier object; and 2) Encode your labels (y) as integers starting with 0, i.e. 0, 1, 2, ..., [num_class - 1].\n",
      "  warnings.warn(label_encoder_deprecation_msg, UserWarning)\n",
      "C:\\Users\\Ricardo\\miniconda3\\envs\\heart\\lib\\site-packages\\xgboost\\sklearn.py:1224: UserWarning: The use of label encoder in XGBClassifier is deprecated and will be removed in a future release. To remove this warning, do the following: 1) Pass option use_label_encoder=False when constructing XGBClassifier object; and 2) Encode your labels (y) as integers starting with 0, i.e. 0, 1, 2, ..., [num_class - 1].\n",
      "  warnings.warn(label_encoder_deprecation_msg, UserWarning)\n",
      "C:\\Users\\Ricardo\\miniconda3\\envs\\heart\\lib\\site-packages\\xgboost\\sklearn.py:1224: UserWarning: The use of label encoder in XGBClassifier is deprecated and will be removed in a future release. To remove this warning, do the following: 1) Pass option use_label_encoder=False when constructing XGBClassifier object; and 2) Encode your labels (y) as integers starting with 0, i.e. 0, 1, 2, ..., [num_class - 1].\n",
      "  warnings.warn(label_encoder_deprecation_msg, UserWarning)\n"
     ]
    },
    {
     "data": {
      "text/plain": [
       "RFE(estimator=XGBClassifier(base_score=None, booster=None,\n",
       "                            colsample_bylevel=None, colsample_bynode=None,\n",
       "                            colsample_bytree=None, enable_categorical=False,\n",
       "                            eval_metric='auc', gamma=None, gpu_id=None,\n",
       "                            importance_type=None, interaction_constraints=None,\n",
       "                            learning_rate=None, max_delta_step=None,\n",
       "                            max_depth=None, min_child_weight=None, missing=nan,\n",
       "                            monotone_constraints=None, n_estimators=100,\n",
       "                            n_jobs=-1, num_parallel_tree=None, predictor=None,\n",
       "                            random_state=None, reg_alpha=None, reg_lambda=None,\n",
       "                            scale_pos_weight=None, subsample=None,\n",
       "                            tree_method=None, validate_parameters=None,\n",
       "                            verbosity=None))"
      ]
     },
     "execution_count": 14,
     "metadata": {},
     "output_type": "execute_result"
    }
   ],
   "source": [
    "rfe.fit(x,y)"
   ]
  },
  {
   "cell_type": "markdown",
   "id": "966ffea8",
   "metadata": {},
   "source": [
    "##### Extraer los nombres de las que entran"
   ]
  },
  {
   "cell_type": "code",
   "execution_count": 15,
   "id": "cb91f9ee",
   "metadata": {},
   "outputs": [],
   "source": [
    "entran_rfe = x.columns[rfe.support_]"
   ]
  },
  {
   "cell_type": "code",
   "execution_count": 16,
   "id": "45047a3d-130d-4e5b-86fa-b8b8d4c43e6b",
   "metadata": {},
   "outputs": [
    {
     "data": {
      "text/plain": [
       "Index(['sex', 'chess_pain', 'angina_induced', 'oldpeak',\n",
       "       'number_major_vessels', 'thall'],\n",
       "      dtype='object')"
      ]
     },
     "execution_count": 16,
     "metadata": {},
     "output_type": "execute_result"
    }
   ],
   "source": [
    "entran_rfe"
   ]
  },
  {
   "cell_type": "markdown",
   "id": "29e5e5bb",
   "metadata": {},
   "source": [
    "#### Crear el dataframe con la selección"
   ]
  },
  {
   "cell_type": "code",
   "execution_count": 17,
   "id": "947dc528",
   "metadata": {},
   "outputs": [],
   "source": [
    "x_rfe = x[entran_rfe].copy()"
   ]
  },
  {
   "cell_type": "markdown",
   "id": "3ebdee99",
   "metadata": {},
   "source": [
    "### Permutation Importance"
   ]
  },
  {
   "cell_type": "markdown",
   "id": "ce1f6aea",
   "metadata": {},
   "source": [
    "#### Crear una función para mostrar el resultado"
   ]
  },
  {
   "cell_type": "code",
   "execution_count": 18,
   "id": "0b598224",
   "metadata": {},
   "outputs": [],
   "source": [
    "def ranking_per(predictoras,permutacion):\n",
    "    ranking_per = pd.DataFrame({'variable': predictoras.columns, 'importancia_per': permutacion.importances_mean}).sort_values(by = 'importancia_per', ascending = False)\n",
    "    ranking_per['ranking_per'] = np.arange(0,ranking_per.shape[0])\n",
    "    return(ranking_per)"
   ]
  },
  {
   "cell_type": "markdown",
   "id": "18b55e50",
   "metadata": {},
   "source": [
    "#### Instanciar y entrenar"
   ]
  },
  {
   "cell_type": "code",
   "execution_count": 19,
   "id": "f72dac04",
   "metadata": {},
   "outputs": [
    {
     "name": "stderr",
     "output_type": "stream",
     "text": [
      "C:\\Users\\Ricardo\\miniconda3\\envs\\heart\\lib\\site-packages\\xgboost\\sklearn.py:1224: UserWarning: The use of label encoder in XGBClassifier is deprecated and will be removed in a future release. To remove this warning, do the following: 1) Pass option use_label_encoder=False when constructing XGBClassifier object; and 2) Encode your labels (y) as integers starting with 0, i.e. 0, 1, 2, ..., [num_class - 1].\n",
      "  warnings.warn(label_encoder_deprecation_msg, UserWarning)\n",
      "C:\\Users\\Ricardo\\miniconda3\\envs\\heart\\lib\\site-packages\\xgboost\\data.py:250: FutureWarning: pandas.Int64Index is deprecated and will be removed from pandas in a future version. Use pandas.Index with the appropriate dtype instead.\n",
      "  elif isinstance(data.columns, (pd.Int64Index, pd.RangeIndex)):\n"
     ]
    }
   ],
   "source": [
    "import warnings\n",
    "warnings.filterwarnings(action=\"ignore\", message=r'.*Use subset.*of np.ndarray is not recommended')\n",
    "\n",
    "xgb = XGBClassifier(n_jobs = -1, eval_metric='auc')\n",
    "\n",
    "xgb.fit(x,y)\n",
    "\n",
    "permutacion = permutation_importance(xgb, \n",
    "                                     x, y, \n",
    "                                     scoring = 'roc_auc',\n",
    "                                     n_repeats=5, n_jobs = -1)"
   ]
  },
  {
   "cell_type": "markdown",
   "id": "b26d81b6",
   "metadata": {},
   "source": [
    "#### Revisar la salida"
   ]
  },
  {
   "cell_type": "code",
   "execution_count": 20,
   "id": "e9cbce90",
   "metadata": {},
   "outputs": [
    {
     "data": {
      "image/png": "[encoded data removed]",
      "text/plain": [
       "<Figure size 864x1440 with 1 Axes>"
      ]
     },
     "metadata": {
      "needs_background": "light"
     },
     "output_type": "display_data"
    }
   ],
   "source": [
    "rank_per = ranking_per(x,permutacion)\n",
    "\n",
    "rank_per.set_index('variable').importancia_per.sort_values().plot.barh(figsize = (12,20));"
   ]
  },
  {
   "cell_type": "markdown",
   "id": "a7c756cc",
   "metadata": {},
   "source": [
    "#### Seleccionar las variables que pasan"
   ]
  },
  {
   "cell_type": "markdown",
   "id": "0e6a96f2",
   "metadata": {},
   "source": [
    "##### Definir la posición de la última variable que va a entrar"
   ]
  },
  {
   "cell_type": "code",
   "execution_count": 24,
   "id": "5b034a55",
   "metadata": {},
   "outputs": [],
   "source": [
    "posicion_variable_limite = 8"
   ]
  },
  {
   "cell_type": "markdown",
   "id": "7ae0d63a",
   "metadata": {},
   "source": [
    "##### Extraer los nombres de las que entran"
   ]
  },
  {
   "cell_type": "code",
   "execution_count": 25,
   "id": "b1b860a1",
   "metadata": {},
   "outputs": [],
   "source": [
    "entran_per = rank_per.iloc[0:posicion_variable_limite].variable"
   ]
  },
  {
   "cell_type": "markdown",
   "id": "b522076c",
   "metadata": {},
   "source": [
    "##### Crear el dataframe con la selección"
   ]
  },
  {
   "cell_type": "code",
   "execution_count": 26,
   "id": "ae2a4404",
   "metadata": {},
   "outputs": [],
   "source": [
    "x_per = x[entran_per].copy()"
   ]
  },
  {
   "cell_type": "markdown",
   "id": "b332a368",
   "metadata": {},
   "source": [
    "## SELECCIONAR EL MÉTODO FINAL"
   ]
  },
  {
   "cell_type": "code",
   "execution_count": 27,
   "id": "0748834c",
   "metadata": {},
   "outputs": [],
   "source": [
    "#x_preseleccionado = x_mi\n",
    "# x_preseleccionado = x_rfe\n",
    "x_preseleccionado = x_per"
   ]
  },
  {
   "cell_type": "markdown",
   "id": "f1d963a6",
   "metadata": {},
   "source": [
    "## MÉTODOS NO SUPERVISADOS"
   ]
  },
  {
   "cell_type": "markdown",
   "id": "34b364e9",
   "metadata": {},
   "source": [
    "### Correlación"
   ]
  },
  {
   "cell_type": "markdown",
   "id": "7a658fbc",
   "metadata": {},
   "source": [
    "#### Crear una función para mostrar el resultado"
   ]
  },
  {
   "cell_type": "code",
   "execution_count": 28,
   "id": "bad3c657",
   "metadata": {},
   "outputs": [],
   "source": [
    "def correlaciones_fuertes(df, lim_inf = 0.3, lim_sup = 1,drop_dupli=True):\n",
    "    #Calcula la matriz de correlación\n",
    "    c = df.corr().abs()\n",
    "    #Lo pasa todo a filas\n",
    "    c= c.unstack()\n",
    "    #Pasa el índice a columnas y le pone nombres\n",
    "    c = pd.DataFrame(c).reset_index()\n",
    "    c.columns = ['var1','var2','corr']\n",
    "    #A dataframe, filtra limites y ordena en descendiente\n",
    "    c = c.loc[(c['corr'] > lim_inf) &  (c['corr'] < lim_sup),:].sort_values(by = 'corr', ascending=False)\n",
    "    #Desduplica las correlaciones (o no si drop_dupli es False)\n",
    "    c = c if drop_dupli == False else c.drop_duplicates(subset = ['corr'])\n",
    "    #Devuelve la salida\n",
    "    return(c)"
   ]
  },
  {
   "cell_type": "markdown",
   "id": "b3b33732",
   "metadata": {},
   "source": [
    "#### Calcular y revisar"
   ]
  },
  {
   "cell_type": "markdown",
   "id": "c3eff4be",
   "metadata": {},
   "source": [
    "##### Calcular"
   ]
  },
  {
   "cell_type": "code",
   "execution_count": 29,
   "id": "688d0ec5",
   "metadata": {},
   "outputs": [],
   "source": [
    "cor_finales = correlaciones_fuertes(x_preseleccionado)"
   ]
  },
  {
   "cell_type": "markdown",
   "id": "c45379b3",
   "metadata": {},
   "source": [
    "##### Revisar agregado"
   ]
  },
  {
   "cell_type": "code",
   "execution_count": 30,
   "id": "05438e63",
   "metadata": {},
   "outputs": [
    {
     "data": {
      "text/plain": [
       "age                     1\n",
       "oldpeak                 1\n",
       "chess_pain              1\n",
       "number_major_vessels    1\n",
       "Name: var1, dtype: int64"
      ]
     },
     "execution_count": 30,
     "metadata": {},
     "output_type": "execute_result"
    }
   ],
   "source": [
    "cor_finales.var1.value_counts()"
   ]
  },
  {
   "cell_type": "markdown",
   "id": "45fde6af",
   "metadata": {},
   "source": [
    "##### Revisar detalle"
   ]
  },
  {
   "cell_type": "code",
   "execution_count": 31,
   "id": "2c9e6403",
   "metadata": {},
   "outputs": [
    {
     "data": {
      "text/html": [
       "<div>\n",
       "<style scoped>\n",
       "    .dataframe tbody tr th:only-of-type {\n",
       "        vertical-align: middle;\n",
       "    }\n",
       "\n",
       "    .dataframe tbody tr th {\n",
       "        vertical-align: top;\n",
       "    }\n",
       "\n",
       "    .dataframe thead th {\n",
       "        text-align: right;\n",
       "    }\n",
       "</style>\n",
       "<table border=\"1\" class=\"dataframe\">\n",
       "  <thead>\n",
       "    <tr style=\"text-align: right;\">\n",
       "      <th></th>\n",
       "      <th>var1</th>\n",
       "      <th>var2</th>\n",
       "      <th>corr</th>\n",
       "    </tr>\n",
       "  </thead>\n",
       "  <tbody>\n",
       "    <tr>\n",
       "      <th>29</th>\n",
       "      <td>age</td>\n",
       "      <td>maximum_heart_rate</td>\n",
       "      <td>0.404308</td>\n",
       "    </tr>\n",
       "    <tr>\n",
       "      <th>13</th>\n",
       "      <td>oldpeak</td>\n",
       "      <td>maximum_heart_rate</td>\n",
       "      <td>0.359401</td>\n",
       "    </tr>\n",
       "    <tr>\n",
       "      <th>21</th>\n",
       "      <td>chess_pain</td>\n",
       "      <td>maximum_heart_rate</td>\n",
       "      <td>0.322514</td>\n",
       "    </tr>\n",
       "    <tr>\n",
       "      <th>3</th>\n",
       "      <td>number_major_vessels</td>\n",
       "      <td>age</td>\n",
       "      <td>0.302040</td>\n",
       "    </tr>\n",
       "  </tbody>\n",
       "</table>\n",
       "</div>"
      ],
      "text/plain": [
       "                    var1                var2      corr\n",
       "29                   age  maximum_heart_rate  0.404308\n",
       "13               oldpeak  maximum_heart_rate  0.359401\n",
       "21            chess_pain  maximum_heart_rate  0.322514\n",
       "3   number_major_vessels                 age  0.302040"
      ]
     },
     "execution_count": 31,
     "metadata": {},
     "output_type": "execute_result"
    }
   ],
   "source": [
    "cor_finales.head(50)\n",
    "#No vamos a eliminar ninguna varaible por correlación"
   ]
  },
  {
   "cell_type": "markdown",
   "id": "3ce7908b",
   "metadata": {},
   "source": [
    "## GUARDAR DATASETS TRAS PRESELECCION DE VARIABLES"
   ]
  },
  {
   "cell_type": "code",
   "execution_count": 32,
   "id": "fa2f23c4",
   "metadata": {},
   "outputs": [],
   "source": [
    "#Definir los nombres de los archivos\n",
    "nombre_x_preseleccionado = ruta_proyecto + '/02_Datos/03_Trabajo/' + 'x_preseleccionado.pickle'\n",
    "nombre_y_preseleccionado = ruta_proyecto + '/02_Datos/03_Trabajo/' + 'y_preseleccionado.pickle'"
   ]
  },
  {
   "cell_type": "code",
   "execution_count": 33,
   "id": "57054d93",
   "metadata": {},
   "outputs": [],
   "source": [
    "#Guardar los archivos\n",
    "x_preseleccionado.to_pickle(nombre_x_preseleccionado)\n",
    "\n",
    "y_preseleccionado = y.copy()\n",
    "y_preseleccionado.to_pickle(nombre_y_preseleccionado)"
   ]
  },
  {
   "cell_type": "code",
   "execution_count": 34,
   "id": "acd053bb",
   "metadata": {},
   "outputs": [],
   "source": [
    "#Guardar los nombres de las variables finales\n",
    "nombre_variables_finales = ruta_proyecto + '/05_Resultados/' + 'variables_finales.pickle'\n",
    "\n",
    "x_preseleccionado.iloc[0].to_pickle(nombre_variables_finales)"
   ]
  },
  {
   "cell_type": "markdown",
   "id": "3ba397ec",
   "metadata": {
    "jp-MarkdownHeadingCollapsed": true
   },
   "source": [
    "# ⌨️ MODELIZACIÓN PARA CLASIFICACIÓN"
   ]
  },
  {
   "cell_type": "markdown",
   "id": "d7ac8de1",
   "metadata": {},
   "source": [
    "## IMPORTAR PAQUETES"
   ]
  },
  {
   "cell_type": "code",
   "execution_count": 1,
   "id": "05f8f4e9",
   "metadata": {},
   "outputs": [
    {
     "name": "stderr",
     "output_type": "stream",
     "text": [
      "C:\\Users\\Ricardo\\miniconda3\\envs\\heart\\lib\\site-packages\\xgboost\\compat.py:36: FutureWarning: pandas.Int64Index is deprecated and will be removed from pandas in a future version. Use pandas.Index with the appropriate dtype instead.\n",
      "  from pandas import MultiIndex, Int64Index\n"
     ]
    }
   ],
   "source": [
    "import numpy as np\n",
    "import pandas as pd\n",
    "import matplotlib.pyplot as plt\n",
    "%matplotlib inline\n",
    "\n",
    "from sklearn.model_selection import train_test_split\n",
    "\n",
    "from sklearn.linear_model import LogisticRegression\n",
    "from sklearn.ensemble import RandomForestClassifier\n",
    "from xgboost import XGBClassifier\n",
    "from sklearn.ensemble import HistGradientBoostingClassifier\n",
    "from sklearn.pipeline import Pipeline\n",
    "\n",
    "from sklearn.model_selection import GridSearchCV\n",
    "from sklearn.model_selection import RandomizedSearchCV\n",
    "\n",
    "from sklearn.metrics import roc_auc_score\n",
    "from sklearn.metrics import confusion_matrix\n",
    "from sklearn.metrics import ConfusionMatrixDisplay\n",
    "\n",
    "from sklearn.metrics import classification_report\n",
    "\n",
    "#from sklearn.metrics import plot_precision_recall_curve\n",
    "from sklearn.metrics import PrecisionRecallDisplay\n",
    "import scikitplot as skplt\n",
    "#from yellowbrick.classifier import discrimination_threshold\n",
    "\n",
    "#Autocompletar rápido\n",
    "%config IPCompleter.greedy=True\n",
    "\n",
    "#Desactivar la notación científica\n",
    "pd.options.display.float_format = '{:.2f}'.format\n",
    "\n",
    "#Desactivar los warnings\n",
    "import warnings\n",
    "warnings.filterwarnings(\"ignore\")"
   ]
  },
  {
   "cell_type": "markdown",
   "id": "62e03670",
   "metadata": {},
   "source": [
    "## IMPORTAR LOS DATOS"
   ]
  },
  {
   "cell_type": "markdown",
   "id": "cc4de546",
   "metadata": {},
   "source": [
    "Sustituir la ruta del proyecto."
   ]
  },
  {
   "cell_type": "code",
   "execution_count": 2,
   "id": "c03a3005",
   "metadata": {},
   "outputs": [],
   "source": [
    "ruta_proyecto = 'C:/Users/Ricardo/Desktop/Portfolio/Heart'"
   ]
  },
  {
   "cell_type": "markdown",
   "id": "5f629d41",
   "metadata": {},
   "source": [
    "Nombres de los ficheros de datos."
   ]
  },
  {
   "cell_type": "code",
   "execution_count": 3,
   "id": "28ca9f3b",
   "metadata": {},
   "outputs": [],
   "source": [
    "nombre_x = 'x_preseleccionado.pickle'\n",
    "nombre_y = 'y_preseleccionado.pickle'"
   ]
  },
  {
   "cell_type": "markdown",
   "id": "5644b355",
   "metadata": {},
   "source": [
    "Cargar los datos."
   ]
  },
  {
   "cell_type": "code",
   "execution_count": 7,
   "id": "2d4a7581",
   "metadata": {},
   "outputs": [],
   "source": [
    "x = pd.read_pickle(ruta_proyecto + '/02_Datos/03_Trabajo/' + nombre_x)\n",
    "y = pd.read_pickle(ruta_proyecto + '/02_Datos/03_Trabajo/' + nombre_y)"
   ]
  },
  {
   "cell_type": "markdown",
   "id": "21193522",
   "metadata": {},
   "source": [
    "## MODELIZAR"
   ]
  },
  {
   "cell_type": "markdown",
   "id": "930f685f",
   "metadata": {},
   "source": [
    "### Reservar el dataset de validacion"
   ]
  },
  {
   "cell_type": "code",
   "execution_count": 8,
   "id": "84b6fd41",
   "metadata": {},
   "outputs": [],
   "source": [
    "train_x,val_x,train_y,val_y = train_test_split(x,y,test_size=0.3)"
   ]
  },
  {
   "cell_type": "markdown",
   "id": "53bd4ad6",
   "metadata": {},
   "source": [
    "### Crear el pipe y el diccionario de algorimos, parámetros y valores a testar"
   ]
  },
  {
   "cell_type": "code",
   "execution_count": 9,
   "id": "3efa5c98",
   "metadata": {},
   "outputs": [],
   "source": [
    "pipe = Pipeline([('algoritmo',RandomForestClassifier())])\n",
    "\n",
    "grid = [\n",
    "        \n",
    "        {'algoritmo': [RandomForestClassifier()],\n",
    "         'algoritmo__n_jobs': [-1],\n",
    "         'algoritmo__max_depth': [5,10,15],\n",
    "         'algoritmo__n_estimators': [50,100,200]},\n",
    "        \n",
    "        {'algoritmo': [XGBClassifier()],\n",
    "         'algoritmo__n_jobs': [-1],\n",
    "         'algoritmo__verbosity': [0],#para que no salgan warnings\n",
    "         'algoritmo__learning_rate': [0.01,0.025,0.05,0.1],\n",
    "         'algoritmo__max_depth': [5,10,20],\n",
    "         'algoritmo__reg_alpha': [0,0.1,0.5,1],\n",
    "         'algoritmo__reg_lambda': [0.01,0.1,1],\n",
    "         'algoritmo__n_estimators': [100,500,1000]},\n",
    "        \n",
    "        {'algoritmo': [HistGradientBoostingClassifier()],\n",
    "         'algoritmo__learning_rate': [0.01,0.025,0.05,0.1],\n",
    "         'algoritmo__max_iter': [50,100,200],\n",
    "         'algoritmo__max_depth': [5,10,20],\n",
    "         'algoritmo__min_samples_leaf': [500],\n",
    "         'algoritmo__scoring': ['roc_auc'],\n",
    "         'algoritmo__l2_regularization': [0,0.25,0.5,0.75,1]}\n",
    "       ]"
   ]
  },
  {
   "cell_type": "markdown",
   "id": "1f836ca9",
   "metadata": {},
   "source": [
    "### Optimizar los hiper parámetros"
   ]
  },
  {
   "cell_type": "markdown",
   "id": "3d73daa9",
   "metadata": {
    "jp-MarkdownHeadingCollapsed": true
   },
   "source": [
    "####  Con grid search"
   ]
  },
  {
   "cell_type": "code",
   "execution_count": 10,
   "id": "4be08386",
   "metadata": {},
   "outputs": [
    {
     "data": {
      "text/html": [
       "<div>\n",
       "<style scoped>\n",
       "    .dataframe tbody tr th:only-of-type {\n",
       "        vertical-align: middle;\n",
       "    }\n",
       "\n",
       "    .dataframe tbody tr th {\n",
       "        vertical-align: top;\n",
       "    }\n",
       "\n",
       "    .dataframe thead th {\n",
       "        text-align: right;\n",
       "    }\n",
       "</style>\n",
       "<table border=\"1\" class=\"dataframe\">\n",
       "  <thead>\n",
       "    <tr style=\"text-align: right;\">\n",
       "      <th></th>\n",
       "      <th>mean_fit_time</th>\n",
       "      <th>std_fit_time</th>\n",
       "      <th>mean_score_time</th>\n",
       "      <th>std_score_time</th>\n",
       "      <th>param_algoritmo</th>\n",
       "      <th>param_algoritmo__max_depth</th>\n",
       "      <th>param_algoritmo__n_estimators</th>\n",
       "      <th>param_algoritmo__n_jobs</th>\n",
       "      <th>param_algoritmo__learning_rate</th>\n",
       "      <th>param_algoritmo__reg_alpha</th>\n",
       "      <th>...</th>\n",
       "      <th>param_algoritmo__max_iter</th>\n",
       "      <th>param_algoritmo__min_samples_leaf</th>\n",
       "      <th>param_algoritmo__scoring</th>\n",
       "      <th>params</th>\n",
       "      <th>split0_test_score</th>\n",
       "      <th>split1_test_score</th>\n",
       "      <th>split2_test_score</th>\n",
       "      <th>mean_test_score</th>\n",
       "      <th>std_test_score</th>\n",
       "      <th>rank_test_score</th>\n",
       "    </tr>\n",
       "  </thead>\n",
       "  <tbody>\n",
       "    <tr>\n",
       "      <th>437</th>\n",
       "      <td>1.49</td>\n",
       "      <td>0.09</td>\n",
       "      <td>0.01</td>\n",
       "      <td>0.00</td>\n",
       "      <td>XGBClassifier(base_score=None, booster=None, c...</td>\n",
       "      <td>20</td>\n",
       "      <td>1000</td>\n",
       "      <td>-1</td>\n",
       "      <td>0.10</td>\n",
       "      <td>0.50</td>\n",
       "      <td>...</td>\n",
       "      <td>NaN</td>\n",
       "      <td>NaN</td>\n",
       "      <td>NaN</td>\n",
       "      <td>{'algoritmo': XGBClassifier(base_score=None, b...</td>\n",
       "      <td>0.93</td>\n",
       "      <td>0.85</td>\n",
       "      <td>0.83</td>\n",
       "      <td>0.87</td>\n",
       "      <td>0.04</td>\n",
       "      <td>1</td>\n",
       "    </tr>\n",
       "    <tr>\n",
       "      <th>425</th>\n",
       "      <td>1.71</td>\n",
       "      <td>0.09</td>\n",
       "      <td>0.01</td>\n",
       "      <td>0.00</td>\n",
       "      <td>XGBClassifier(base_score=None, booster=None, c...</td>\n",
       "      <td>20</td>\n",
       "      <td>500</td>\n",
       "      <td>-1</td>\n",
       "      <td>0.10</td>\n",
       "      <td>0.50</td>\n",
       "      <td>...</td>\n",
       "      <td>NaN</td>\n",
       "      <td>NaN</td>\n",
       "      <td>NaN</td>\n",
       "      <td>{'algoritmo': XGBClassifier(base_score=None, b...</td>\n",
       "      <td>0.93</td>\n",
       "      <td>0.85</td>\n",
       "      <td>0.83</td>\n",
       "      <td>0.87</td>\n",
       "      <td>0.04</td>\n",
       "      <td>1</td>\n",
       "    </tr>\n",
       "    <tr>\n",
       "      <th>389</th>\n",
       "      <td>0.85</td>\n",
       "      <td>0.04</td>\n",
       "      <td>0.01</td>\n",
       "      <td>0.00</td>\n",
       "      <td>XGBClassifier(base_score=None, booster=None, c...</td>\n",
       "      <td>10</td>\n",
       "      <td>500</td>\n",
       "      <td>-1</td>\n",
       "      <td>0.10</td>\n",
       "      <td>0.50</td>\n",
       "      <td>...</td>\n",
       "      <td>NaN</td>\n",
       "      <td>NaN</td>\n",
       "      <td>NaN</td>\n",
       "      <td>{'algoritmo': XGBClassifier(base_score=None, b...</td>\n",
       "      <td>0.93</td>\n",
       "      <td>0.85</td>\n",
       "      <td>0.83</td>\n",
       "      <td>0.87</td>\n",
       "      <td>0.04</td>\n",
       "      <td>1</td>\n",
       "    </tr>\n",
       "    <tr>\n",
       "      <th>401</th>\n",
       "      <td>1.38</td>\n",
       "      <td>0.05</td>\n",
       "      <td>0.01</td>\n",
       "      <td>0.00</td>\n",
       "      <td>XGBClassifier(base_score=None, booster=None, c...</td>\n",
       "      <td>10</td>\n",
       "      <td>1000</td>\n",
       "      <td>-1</td>\n",
       "      <td>0.10</td>\n",
       "      <td>0.50</td>\n",
       "      <td>...</td>\n",
       "      <td>NaN</td>\n",
       "      <td>NaN</td>\n",
       "      <td>NaN</td>\n",
       "      <td>{'algoritmo': XGBClassifier(base_score=None, b...</td>\n",
       "      <td>0.93</td>\n",
       "      <td>0.85</td>\n",
       "      <td>0.83</td>\n",
       "      <td>0.87</td>\n",
       "      <td>0.04</td>\n",
       "      <td>1</td>\n",
       "    </tr>\n",
       "    <tr>\n",
       "      <th>317</th>\n",
       "      <td>1.15</td>\n",
       "      <td>0.04</td>\n",
       "      <td>0.01</td>\n",
       "      <td>0.00</td>\n",
       "      <td>XGBClassifier(base_score=None, booster=None, c...</td>\n",
       "      <td>20</td>\n",
       "      <td>500</td>\n",
       "      <td>-1</td>\n",
       "      <td>0.05</td>\n",
       "      <td>0.50</td>\n",
       "      <td>...</td>\n",
       "      <td>NaN</td>\n",
       "      <td>NaN</td>\n",
       "      <td>NaN</td>\n",
       "      <td>{'algoritmo': XGBClassifier(base_score=None, b...</td>\n",
       "      <td>0.93</td>\n",
       "      <td>0.85</td>\n",
       "      <td>0.83</td>\n",
       "      <td>0.87</td>\n",
       "      <td>0.04</td>\n",
       "      <td>5</td>\n",
       "    </tr>\n",
       "    <tr>\n",
       "      <th>...</th>\n",
       "      <td>...</td>\n",
       "      <td>...</td>\n",
       "      <td>...</td>\n",
       "      <td>...</td>\n",
       "      <td>...</td>\n",
       "      <td>...</td>\n",
       "      <td>...</td>\n",
       "      <td>...</td>\n",
       "      <td>...</td>\n",
       "      <td>...</td>\n",
       "      <td>...</td>\n",
       "      <td>...</td>\n",
       "      <td>...</td>\n",
       "      <td>...</td>\n",
       "      <td>...</td>\n",
       "      <td>...</td>\n",
       "      <td>...</td>\n",
       "      <td>...</td>\n",
       "      <td>...</td>\n",
       "      <td>...</td>\n",
       "      <td>...</td>\n",
       "    </tr>\n",
       "    <tr>\n",
       "      <th>502</th>\n",
       "      <td>0.10</td>\n",
       "      <td>0.00</td>\n",
       "      <td>0.03</td>\n",
       "      <td>0.00</td>\n",
       "      <td>HistGradientBoostingClassifier()</td>\n",
       "      <td>20</td>\n",
       "      <td>NaN</td>\n",
       "      <td>NaN</td>\n",
       "      <td>0.05</td>\n",
       "      <td>NaN</td>\n",
       "      <td>...</td>\n",
       "      <td>100</td>\n",
       "      <td>500</td>\n",
       "      <td>roc_auc</td>\n",
       "      <td>{'algoritmo': HistGradientBoostingClassifier()...</td>\n",
       "      <td>0.50</td>\n",
       "      <td>0.50</td>\n",
       "      <td>0.50</td>\n",
       "      <td>0.50</td>\n",
       "      <td>0.00</td>\n",
       "      <td>442</td>\n",
       "    </tr>\n",
       "    <tr>\n",
       "      <th>503</th>\n",
       "      <td>0.21</td>\n",
       "      <td>0.00</td>\n",
       "      <td>0.05</td>\n",
       "      <td>0.00</td>\n",
       "      <td>HistGradientBoostingClassifier()</td>\n",
       "      <td>20</td>\n",
       "      <td>NaN</td>\n",
       "      <td>NaN</td>\n",
       "      <td>0.05</td>\n",
       "      <td>NaN</td>\n",
       "      <td>...</td>\n",
       "      <td>200</td>\n",
       "      <td>500</td>\n",
       "      <td>roc_auc</td>\n",
       "      <td>{'algoritmo': HistGradientBoostingClassifier()...</td>\n",
       "      <td>0.50</td>\n",
       "      <td>0.50</td>\n",
       "      <td>0.50</td>\n",
       "      <td>0.50</td>\n",
       "      <td>0.00</td>\n",
       "      <td>442</td>\n",
       "    </tr>\n",
       "    <tr>\n",
       "      <th>504</th>\n",
       "      <td>0.05</td>\n",
       "      <td>0.00</td>\n",
       "      <td>0.01</td>\n",
       "      <td>0.00</td>\n",
       "      <td>HistGradientBoostingClassifier()</td>\n",
       "      <td>5</td>\n",
       "      <td>NaN</td>\n",
       "      <td>NaN</td>\n",
       "      <td>0.10</td>\n",
       "      <td>NaN</td>\n",
       "      <td>...</td>\n",
       "      <td>50</td>\n",
       "      <td>500</td>\n",
       "      <td>roc_auc</td>\n",
       "      <td>{'algoritmo': HistGradientBoostingClassifier()...</td>\n",
       "      <td>0.50</td>\n",
       "      <td>0.50</td>\n",
       "      <td>0.50</td>\n",
       "      <td>0.50</td>\n",
       "      <td>0.00</td>\n",
       "      <td>442</td>\n",
       "    </tr>\n",
       "    <tr>\n",
       "      <th>506</th>\n",
       "      <td>0.21</td>\n",
       "      <td>0.00</td>\n",
       "      <td>0.05</td>\n",
       "      <td>0.00</td>\n",
       "      <td>HistGradientBoostingClassifier()</td>\n",
       "      <td>5</td>\n",
       "      <td>NaN</td>\n",
       "      <td>NaN</td>\n",
       "      <td>0.10</td>\n",
       "      <td>NaN</td>\n",
       "      <td>...</td>\n",
       "      <td>200</td>\n",
       "      <td>500</td>\n",
       "      <td>roc_auc</td>\n",
       "      <td>{'algoritmo': HistGradientBoostingClassifier()...</td>\n",
       "      <td>0.50</td>\n",
       "      <td>0.50</td>\n",
       "      <td>0.50</td>\n",
       "      <td>0.50</td>\n",
       "      <td>0.00</td>\n",
       "      <td>442</td>\n",
       "    </tr>\n",
       "    <tr>\n",
       "      <th>620</th>\n",
       "      <td>0.14</td>\n",
       "      <td>0.00</td>\n",
       "      <td>0.02</td>\n",
       "      <td>0.00</td>\n",
       "      <td>HistGradientBoostingClassifier()</td>\n",
       "      <td>20</td>\n",
       "      <td>NaN</td>\n",
       "      <td>NaN</td>\n",
       "      <td>0.10</td>\n",
       "      <td>NaN</td>\n",
       "      <td>...</td>\n",
       "      <td>200</td>\n",
       "      <td>500</td>\n",
       "      <td>roc_auc</td>\n",
       "      <td>{'algoritmo': HistGradientBoostingClassifier()...</td>\n",
       "      <td>0.50</td>\n",
       "      <td>0.50</td>\n",
       "      <td>0.50</td>\n",
       "      <td>0.50</td>\n",
       "      <td>0.00</td>\n",
       "      <td>442</td>\n",
       "    </tr>\n",
       "  </tbody>\n",
       "</table>\n",
       "<p>621 rows × 23 columns</p>\n",
       "</div>"
      ],
      "text/plain": [
       "     mean_fit_time  std_fit_time  mean_score_time  std_score_time  \\\n",
       "437           1.49          0.09             0.01            0.00   \n",
       "425           1.71          0.09             0.01            0.00   \n",
       "389           0.85          0.04             0.01            0.00   \n",
       "401           1.38          0.05             0.01            0.00   \n",
       "317           1.15          0.04             0.01            0.00   \n",
       "..             ...           ...              ...             ...   \n",
       "502           0.10          0.00             0.03            0.00   \n",
       "503           0.21          0.00             0.05            0.00   \n",
       "504           0.05          0.00             0.01            0.00   \n",
       "506           0.21          0.00             0.05            0.00   \n",
       "620           0.14          0.00             0.02            0.00   \n",
       "\n",
       "                                       param_algoritmo  \\\n",
       "437  XGBClassifier(base_score=None, booster=None, c...   \n",
       "425  XGBClassifier(base_score=None, booster=None, c...   \n",
       "389  XGBClassifier(base_score=None, booster=None, c...   \n",
       "401  XGBClassifier(base_score=None, booster=None, c...   \n",
       "317  XGBClassifier(base_score=None, booster=None, c...   \n",
       "..                                                 ...   \n",
       "502                   HistGradientBoostingClassifier()   \n",
       "503                   HistGradientBoostingClassifier()   \n",
       "504                   HistGradientBoostingClassifier()   \n",
       "506                   HistGradientBoostingClassifier()   \n",
       "620                   HistGradientBoostingClassifier()   \n",
       "\n",
       "    param_algoritmo__max_depth param_algoritmo__n_estimators  \\\n",
       "437                         20                          1000   \n",
       "425                         20                           500   \n",
       "389                         10                           500   \n",
       "401                         10                          1000   \n",
       "317                         20                           500   \n",
       "..                         ...                           ...   \n",
       "502                         20                           NaN   \n",
       "503                         20                           NaN   \n",
       "504                          5                           NaN   \n",
       "506                          5                           NaN   \n",
       "620                         20                           NaN   \n",
       "\n",
       "    param_algoritmo__n_jobs param_algoritmo__learning_rate  \\\n",
       "437                      -1                           0.10   \n",
       "425                      -1                           0.10   \n",
       "389                      -1                           0.10   \n",
       "401                      -1                           0.10   \n",
       "317                      -1                           0.05   \n",
       "..                      ...                            ...   \n",
       "502                     NaN                           0.05   \n",
       "503                     NaN                           0.05   \n",
       "504                     NaN                           0.10   \n",
       "506                     NaN                           0.10   \n",
       "620                     NaN                           0.10   \n",
       "\n",
       "    param_algoritmo__reg_alpha  ... param_algoritmo__max_iter  \\\n",
       "437                       0.50  ...                       NaN   \n",
       "425                       0.50  ...                       NaN   \n",
       "389                       0.50  ...                       NaN   \n",
       "401                       0.50  ...                       NaN   \n",
       "317                       0.50  ...                       NaN   \n",
       "..                         ...  ...                       ...   \n",
       "502                        NaN  ...                       100   \n",
       "503                        NaN  ...                       200   \n",
       "504                        NaN  ...                        50   \n",
       "506                        NaN  ...                       200   \n",
       "620                        NaN  ...                       200   \n",
       "\n",
       "    param_algoritmo__min_samples_leaf param_algoritmo__scoring  \\\n",
       "437                               NaN                      NaN   \n",
       "425                               NaN                      NaN   \n",
       "389                               NaN                      NaN   \n",
       "401                               NaN                      NaN   \n",
       "317                               NaN                      NaN   \n",
       "..                                ...                      ...   \n",
       "502                               500                  roc_auc   \n",
       "503                               500                  roc_auc   \n",
       "504                               500                  roc_auc   \n",
       "506                               500                  roc_auc   \n",
       "620                               500                  roc_auc   \n",
       "\n",
       "                                                params split0_test_score  \\\n",
       "437  {'algoritmo': XGBClassifier(base_score=None, b...              0.93   \n",
       "425  {'algoritmo': XGBClassifier(base_score=None, b...              0.93   \n",
       "389  {'algoritmo': XGBClassifier(base_score=None, b...              0.93   \n",
       "401  {'algoritmo': XGBClassifier(base_score=None, b...              0.93   \n",
       "317  {'algoritmo': XGBClassifier(base_score=None, b...              0.93   \n",
       "..                                                 ...               ...   \n",
       "502  {'algoritmo': HistGradientBoostingClassifier()...              0.50   \n",
       "503  {'algoritmo': HistGradientBoostingClassifier()...              0.50   \n",
       "504  {'algoritmo': HistGradientBoostingClassifier()...              0.50   \n",
       "506  {'algoritmo': HistGradientBoostingClassifier()...              0.50   \n",
       "620  {'algoritmo': HistGradientBoostingClassifier()...              0.50   \n",
       "\n",
       "    split1_test_score split2_test_score  mean_test_score  std_test_score  \\\n",
       "437              0.85              0.83             0.87            0.04   \n",
       "425              0.85              0.83             0.87            0.04   \n",
       "389              0.85              0.83             0.87            0.04   \n",
       "401              0.85              0.83             0.87            0.04   \n",
       "317              0.85              0.83             0.87            0.04   \n",
       "..                ...               ...              ...             ...   \n",
       "502              0.50              0.50             0.50            0.00   \n",
       "503              0.50              0.50             0.50            0.00   \n",
       "504              0.50              0.50             0.50            0.00   \n",
       "506              0.50              0.50             0.50            0.00   \n",
       "620              0.50              0.50             0.50            0.00   \n",
       "\n",
       "     rank_test_score  \n",
       "437                1  \n",
       "425                1  \n",
       "389                1  \n",
       "401                1  \n",
       "317                5  \n",
       "..               ...  \n",
       "502              442  \n",
       "503              442  \n",
       "504              442  \n",
       "506              442  \n",
       "620              442  \n",
       "\n",
       "[621 rows x 23 columns]"
      ]
     },
     "execution_count": 10,
     "metadata": {},
     "output_type": "execute_result"
    }
   ],
   "source": [
    "grid_search = GridSearchCV(estimator= pipe, \n",
    "                           param_grid = grid, \n",
    "                           cv = 3, \n",
    "                           scoring = 'roc_auc',\n",
    "                           verbose = 0,\n",
    "                           n_jobs = -1)\n",
    "\n",
    "modelo = grid_search.fit(train_x,train_y)\n",
    "\n",
    "pd.DataFrame(grid_search.cv_results_).sort_values(by = 'rank_test_score')"
   ]
  },
  {
   "cell_type": "markdown",
   "id": "fd6f59ab",
   "metadata": {},
   "source": [
    "## EVALUAR"
   ]
  },
  {
   "cell_type": "markdown",
   "id": "90ac986a",
   "metadata": {},
   "source": [
    "### Predecir sobre validación"
   ]
  },
  {
   "cell_type": "code",
   "execution_count": 17,
   "id": "ca079478",
   "metadata": {},
   "outputs": [
    {
     "data": {
      "text/plain": [
       "array([0.8215678 , 0.05119021, 0.01177961, 0.9731567 , 0.13283092,\n",
       "       0.97532994, 0.99737597, 0.9971143 , 0.0769209 , 0.9252554 ,\n",
       "       0.82933104, 0.0823658 , 0.9934736 , 0.96987176, 0.8588009 ,\n",
       "       0.9901168 , 0.02460176, 0.99111104, 0.00961484, 0.9718484 ,\n",
       "       0.2152886 , 0.31494507, 0.0251537 , 0.77368903, 0.6658937 ,\n",
       "       0.9840517 , 0.24505824, 0.08584373, 0.9930848 , 0.16566695,\n",
       "       0.97135395, 0.9869757 , 0.00366124, 0.9909176 , 0.6242774 ,\n",
       "       0.00345528, 0.00963244, 0.48842856, 0.07858816, 0.34021348,\n",
       "       0.76112   , 0.9906529 , 0.4795255 , 0.02417084, 0.03727167,\n",
       "       0.0081755 , 0.07960058, 0.16842245, 0.00717554, 0.03453674,\n",
       "       0.21223064, 0.48512232, 0.9920465 , 0.9890458 , 0.97007984,\n",
       "       0.3511348 , 0.0250013 , 0.01843668, 0.9803601 , 0.9235312 ,\n",
       "       0.01492138, 0.99314195, 0.9866457 , 0.8869955 ], dtype=float32)"
      ]
     },
     "execution_count": 17,
     "metadata": {},
     "output_type": "execute_result"
    }
   ],
   "source": [
    "pred = modelo.best_estimator_.predict_proba(val_x)[:, 1]\n",
    "pred"
   ]
  },
  {
   "cell_type": "markdown",
   "id": "fe9fb9a1",
   "metadata": {},
   "source": [
    "### Evaluar sobre validación"
   ]
  },
  {
   "cell_type": "code",
   "execution_count": 12,
   "id": "f249d6b8",
   "metadata": {},
   "outputs": [
    {
     "data": {
      "text/plain": [
       "0.8641251221896382"
      ]
     },
     "execution_count": 12,
     "metadata": {},
     "output_type": "execute_result"
    }
   ],
   "source": [
    "roc_auc_score(val_y, pred)"
   ]
  },
  {
   "cell_type": "markdown",
   "id": "87d46a1d",
   "metadata": {},
   "source": [
    "### Examinar el mejor modelo"
   ]
  },
  {
   "cell_type": "code",
   "execution_count": 13,
   "id": "f32990c1",
   "metadata": {},
   "outputs": [
    {
     "data": {
      "text/plain": [
       "Pipeline(steps=[('algoritmo',\n",
       "                 XGBClassifier(base_score=0.5, booster='gbtree',\n",
       "                               colsample_bylevel=1, colsample_bynode=1,\n",
       "                               colsample_bytree=1, enable_categorical=False,\n",
       "                               gamma=0, gpu_id=-1, importance_type=None,\n",
       "                               interaction_constraints='', learning_rate=0.1,\n",
       "                               max_delta_step=0, max_depth=10,\n",
       "                               min_child_weight=1, missing=nan,\n",
       "                               monotone_constraints='()', n_estimators=500,\n",
       "                               n_jobs=-1, num_parallel_tree=1, predictor='auto',\n",
       "                               random_state=0, reg_alpha=0.5, reg_lambda=1,\n",
       "                               scale_pos_weight=1, subsample=1,\n",
       "                               tree_method='exact', validate_parameters=1,\n",
       "                               verbosity=0))])"
      ]
     },
     "execution_count": 13,
     "metadata": {},
     "output_type": "execute_result"
    }
   ],
   "source": [
    "modelo.best_estimator_"
   ]
  },
  {
   "cell_type": "markdown",
   "id": "f2848960",
   "metadata": {},
   "source": [
    "## REPORTING DEL MODELO"
   ]
  },
  {
   "cell_type": "markdown",
   "id": "e25e2c94",
   "metadata": {},
   "source": [
    "### Gain Chart"
   ]
  },
  {
   "cell_type": "code",
   "execution_count": 14,
   "id": "f6391cc4",
   "metadata": {},
   "outputs": [
    {
     "data": {
      "image/png": "[encoded data removed]",
      "text/plain": [
       "<Figure size 432x288 with 1 Axes>"
      ]
     },
     "metadata": {
      "needs_background": "light"
     },
     "output_type": "display_data"
    }
   ],
   "source": [
    "fig, ax = plt.subplots()\n",
    "\n",
    "skplt.metrics.plot_cumulative_gain(val_y, modelo.best_estimator_.predict_proba(val_x), ax=ax) \n",
    "\n",
    "# Eliminamos la línea de los ceros, que internamente tiene etiqueta 'Class 0'\n",
    "lines = ax.get_lines()\n",
    "# Buscar por la etiqueta y eliminar la línea correspondiente\n",
    "for line in lines:\n",
    "    if line.get_label() == 'Class 0':\n",
    "        line.remove()\n",
    "\n",
    "# Personalizamos la leyenda sin incluir la línea de los ceros\n",
    "plt.legend(labels=['Modelo'])\n",
    "\n",
    "# Ahora puedes mostrar el gráfico\n",
    "plt.show()"
   ]
  },
  {
   "cell_type": "code",
   "execution_count": null,
   "id": "403b9bb4-3152-4398-8a0f-7fea8b4f179c",
   "metadata": {},
   "outputs": [],
   "source": [
    "#para predecir el 80% de personas con alto riesgo de infarto, me tengo que dirigir unicamente al 50% de los datos de la bbdd."
   ]
  },
  {
   "cell_type": "code",
   "execution_count": 15,
   "id": "5d56a4b8-b118-4f59-87e6-2617b50b8a11",
   "metadata": {},
   "outputs": [
    {
     "data": {
      "image/png": "[encoded data removed]",
      "text/plain": [
       "<Figure size 432x288 with 1 Axes>"
      ]
     },
     "metadata": {
      "needs_background": "light"
     },
     "output_type": "display_data"
    }
   ],
   "source": [
    "fig, ax = plt.subplots()\n",
    "\n",
    "skplt.metrics.plot_lift_curve(val_y, modelo.best_estimator_.predict_proba(val_x), ax=ax) \n",
    "\n",
    "# Eliminamos la línea de los ceros, que internamente tiene etiqueta 'Class 0'\n",
    "lines = ax.get_lines()\n",
    "# Buscar por la etiqueta y eliminar la línea correspondiente\n",
    "for line in lines:\n",
    "    if line.get_label() == 'Class 0':\n",
    "        line.remove()\n",
    "\n",
    "# Personalizamos la leyenda sin incluir la línea de los ceros\n",
    "plt.legend(labels=['Modelo'])\n",
    "\n",
    "# Ahora puedes mostrar el gráfico\n",
    "plt.show()"
   ]
  },
  {
   "cell_type": "markdown",
   "id": "b0f64e40",
   "metadata": {},
   "source": [
    "### ROC Chart"
   ]
  },
  {
   "cell_type": "code",
   "execution_count": 16,
   "id": "db7b53f4",
   "metadata": {},
   "outputs": [
    {
     "data": {
      "image/png": "[encoded data removed]",
      "text/plain": [
       "<Figure size 432x288 with 1 Axes>"
      ]
     },
     "metadata": {
      "needs_background": "light"
     },
     "output_type": "display_data"
    }
   ],
   "source": [
    "fig, ax = plt.subplots()\n",
    "\n",
    "# Generamos la gráfica ROC\n",
    "skplt.metrics.plot_roc(val_y, modelo.best_estimator_.predict_proba(val_x), ax=ax)\n",
    "\n",
    "# Obtenemos todas las líneas y las leyendas\n",
    "lines = ax.get_lines()\n",
    "\n",
    "# Recorremos las líneas para eliminar las no deseadas, excepto la línea de la clase 0\n",
    "for line in lines:\n",
    "    if 'ROC curve of class 0' in line.get_label():\n",
    "        line.set_label('Modelo')\n",
    "    elif line.get_linestyle() != '--':  # Mantenemos la línea punteada pero sin leyenda\n",
    "        line.set_visible(False)\n",
    "\n",
    "# Solo añadimos al leyenda la línea de la clase 0 renombrada a 'Modelo'\n",
    "handles, labels = ax.get_legend_handles_labels()\n",
    "new_handles = [h for h, l in zip(handles, labels) if l == 'Modelo']\n",
    "new_labels = ['Modelo']\n",
    "\n",
    "ax.legend(new_handles, new_labels, loc='best')\n",
    "\n",
    "# Ahora puedes mostrar el gráfico\n",
    "plt.show();\n"
   ]
  },
  {
   "cell_type": "code",
   "execution_count": null,
   "id": "89ecee4c",
   "metadata": {},
   "outputs": [],
   "source": []
  },
  {
   "cell_type": "markdown",
   "id": "797ae63f",
   "metadata": {},
   "source": [
    "## IMPORTAR LAS LIBRERIAS"
   ]
  },
  {
   "cell_type": "markdown",
   "id": "64445de1",
   "metadata": {},
   "source": [
    "Actualizar a las que se usen finalmente en tu proyecto."
   ]
  },
  {
   "cell_type": "code",
   "execution_count": 37,
   "id": "ffe7be80",
   "metadata": {},
   "outputs": [],
   "source": [
    "import numpy as np\n",
    "import pandas as pd\n",
    "import cloudpickle\n",
    "\n",
    "#Automcompletar rápido\n",
    "%config IPCompleter.greedy=True\n",
    "\n",
    "from janitor import clean_names\n",
    "\n",
    "from sklearn.preprocessing import OrdinalEncoder\n",
    "from sklearn.preprocessing import KBinsDiscretizer\n",
    "from sklearn.preprocessing import Binarizer\n",
    "from sklearn.preprocessing import QuantileTransformer\n",
    "from sklearn.preprocessing import StandardScaler\n",
    "\n",
    "from xgboost import XGBClassifier\n",
    "\n",
    "from sklearn.pipeline import Pipeline\n",
    "from sklearn.preprocessing import FunctionTransformer\n",
    "from sklearn.compose import make_column_transformer\n",
    "from sklearn.pipeline import make_pipeline"
   ]
  },
  {
   "cell_type": "markdown",
   "id": "5e12241c",
   "metadata": {},
   "source": [
    "## CARGAR LOS DATOS"
   ]
  },
  {
   "cell_type": "code",
   "execution_count": 38,
   "id": "5a6711f7",
   "metadata": {},
   "outputs": [],
   "source": [
    "ruta_proyecto = 'C:/Users/Ricardo/Desktop/Portfolio/Heart'"
   ]
  },
  {
   "cell_type": "code",
   "execution_count": 39,
   "id": "25b345d7",
   "metadata": {},
   "outputs": [],
   "source": [
    "nombre_fichero_datos = 'heart.csv'"
   ]
  },
  {
   "cell_type": "code",
   "execution_count": 40,
   "id": "480494ff",
   "metadata": {},
   "outputs": [],
   "source": [
    "ruta_completa = ruta_proyecto + '/02_Datos/01_Originales/' + nombre_fichero_datos\n",
    "\n",
    "df = pd.read_csv(ruta_completa) #,index_col=0)"
   ]
  },
  {
   "cell_type": "markdown",
   "id": "ba546b91",
   "metadata": {},
   "source": [
    "### Cargar la lista de variables finales"
   ]
  },
  {
   "cell_type": "code",
   "execution_count": 41,
   "id": "26066884",
   "metadata": {},
   "outputs": [
    {
     "data": {
      "text/plain": [
       "['age',\n",
       " 'chess_pain',\n",
       " 'cholestoral',\n",
       " 'maximum_heart_rate',\n",
       " 'number_major_vessels',\n",
       " 'oldpeak',\n",
       " 'sex',\n",
       " 'thall']"
      ]
     },
     "execution_count": 41,
     "metadata": {},
     "output_type": "execute_result"
    }
   ],
   "source": [
    "nombre_variables_finales = ruta_proyecto + '/05_Resultados/' + 'variables_finales.pickle'\n",
    "\n",
    "pd.read_pickle(nombre_variables_finales).sort_index().index.to_list()"
   ]
  },
  {
   "cell_type": "code",
   "execution_count": 42,
   "id": "da477021",
   "metadata": {},
   "outputs": [],
   "source": [
    "variables_finales = ['age',\n",
    " 'chess_pain',\n",
    " 'cholestoral',\n",
    " 'maximum_heart_rate',\n",
    " 'number_major_vessels',\n",
    " 'oldpeak',\n",
    " 'sex',\n",
    " 'thall']"
   ]
  },
  {
   "cell_type": "markdown",
   "id": "fe5a706b",
   "metadata": {},
   "source": [
    "## ESTRUCTURA DE LOS DATASETS"
   ]
  },
  {
   "cell_type": "markdown",
   "id": "32cd09e5",
   "metadata": {},
   "source": [
    "### Corregir los nombres"
   ]
  },
  {
   "cell_type": "code",
   "execution_count": 43,
   "id": "f08e56d8",
   "metadata": {},
   "outputs": [],
   "source": [
    "df = clean_names(df)"
   ]
  },
  {
   "cell_type": "code",
   "execution_count": 44,
   "id": "0924eb8f-887d-42b2-89ed-79b7505040ec",
   "metadata": {},
   "outputs": [],
   "source": [
    "df.rename(columns = {'cp':'chess_pain'\n",
    "                    ,'trtbps':'blood_pressure'\n",
    "                    ,'chol':'cholestoral'\n",
    "                    ,'fbs':'fasting_blood_sugar'\n",
    "                    ,'restecg':'electro_results'\n",
    "                    ,'thalachh':'maximum_heart_rate'\n",
    "                    ,'exng':'angina_induced'\n",
    "                    ,'caa':'number_major_vessels'\n",
    "                    }, inplace=True)\n"
   ]
  },
  {
   "cell_type": "markdown",
   "id": "a9cd9497",
   "metadata": {},
   "source": [
    "### Eliminar registros"
   ]
  },
  {
   "cell_type": "markdown",
   "id": "4af7dbab",
   "metadata": {},
   "source": [
    "#### Por duplicados"
   ]
  },
  {
   "cell_type": "code",
   "execution_count": 45,
   "id": "361fd5f0",
   "metadata": {},
   "outputs": [],
   "source": [
    "df.drop_duplicates(inplace = True)"
   ]
  },
  {
   "cell_type": "markdown",
   "id": "f5c95cad",
   "metadata": {},
   "source": [
    "#### Por Nulos"
   ]
  },
  {
   "cell_type": "code",
   "execution_count": 46,
   "id": "b53c6908",
   "metadata": {},
   "outputs": [],
   "source": [
    "df.dropna(thresh=3, inplace=True)"
   ]
  },
  {
   "cell_type": "markdown",
   "id": "9f90d327",
   "metadata": {},
   "source": [
    "#### Para x"
   ]
  },
  {
   "cell_type": "markdown",
   "id": "024faf5e",
   "metadata": {},
   "source": [
    "Quedarse solo con las de la lista."
   ]
  },
  {
   "cell_type": "code",
   "execution_count": 48,
   "id": "eb115fbf",
   "metadata": {},
   "outputs": [],
   "source": [
    "x = df[variables_finales].copy()"
   ]
  },
  {
   "cell_type": "markdown",
   "id": "e746ec8d",
   "metadata": {},
   "source": [
    "#### Para y"
   ]
  },
  {
   "cell_type": "markdown",
   "id": "84fd6267",
   "metadata": {},
   "source": [
    "Especificar la target."
   ]
  },
  {
   "cell_type": "code",
   "execution_count": 49,
   "id": "e8cef3f3",
   "metadata": {},
   "outputs": [],
   "source": [
    "target = 'output'"
   ]
  },
  {
   "cell_type": "markdown",
   "id": "a11b8afe",
   "metadata": {},
   "source": [
    "Crear el y."
   ]
  },
  {
   "cell_type": "code",
   "execution_count": 50,
   "id": "d926d93f",
   "metadata": {},
   "outputs": [],
   "source": [
    "y = df[target].copy()"
   ]
  },
  {
   "cell_type": "markdown",
   "id": "99bb2255",
   "metadata": {},
   "source": [
    "## CREAR EL PIPELINE"
   ]
  },
  {
   "cell_type": "markdown",
   "id": "6d6e8fca",
   "metadata": {},
   "source": [
    "### Instanciar calidad de datos"
   ]
  },
  {
   "cell_type": "markdown",
   "id": "06178080",
   "metadata": {},
   "source": [
    "#### Crear la función"
   ]
  },
  {
   "cell_type": "code",
   "execution_count": 62,
   "id": "98177b43",
   "metadata": {},
   "outputs": [],
   "source": [
    "def calidad_datos(df):             \n",
    "    temp=df\n",
    "    temp['number_major_vessels'].clip(0,3,inplace = True)\n",
    "    temp['thall'].clip(1,3,inplace = True)\n",
    "    \n",
    "    return(temp)"
   ]
  },
  {
   "cell_type": "markdown",
   "id": "95bd7490",
   "metadata": {},
   "source": [
    "#### Convertirla en transformer"
   ]
  },
  {
   "cell_type": "code",
   "execution_count": 63,
   "id": "6805f964",
   "metadata": {},
   "outputs": [],
   "source": [
    "hacer_calidad_datos = FunctionTransformer(calidad_datos)"
   ]
  },
  {
   "cell_type": "markdown",
   "id": "88e57147",
   "metadata": {},
   "source": [
    "### Instanciar transformación de variables"
   ]
  },
  {
   "cell_type": "code",
   "execution_count": 64,
   "id": "ee711664",
   "metadata": {},
   "outputs": [
    {
     "data": {
      "text/plain": [
       "\"\\nvar_oe = ['resultado_campana_anterior']\\noe = OrdinalEncoder(categories = [['nonexistent','failure','success']],\\n                    handle_unknown = 'use_encoded_value',\\n                    unknown_value = 10)\\n\\nvar_disc_ds = ['num_dias_ultimo_contacto']\\ndisc_ds = KBinsDiscretizer(n_bins = 6, strategy = 'uniform', encode = 'ordinal')\\n\\nvar_bin = ['variacion_tasa_empleo']\\nbin = Binarizer(threshold=0)\\n\\nvar_qt = ['euribor3m']\\nqt = QuantileTransformer(output_distribution='normal')\\n\\nvar_ss = ['euribor3m','num_dias_ultimo_contacto','resultado_campana_anterior','variacion_tasa_empleo']\\nss = StandardScaler()\\n\""
      ]
     },
     "execution_count": 64,
     "metadata": {},
     "output_type": "execute_result"
    }
   ],
   "source": [
    "var_oe = ['resultado_campana_anterior']\n",
    "oe = OrdinalEncoder(categories = [['nonexistent','failure','success']],\n",
    "                    handle_unknown = 'use_encoded_value',\n",
    "                    unknown_value = 10)\n",
    "\n",
    "var_disc_ds = ['num_dias_ultimo_contacto']\n",
    "disc_ds = KBinsDiscretizer(n_bins = 6, strategy = 'uniform', encode = 'ordinal')\n",
    "\n",
    "var_bin = ['variacion_tasa_empleo']\n",
    "bin = Binarizer(threshold=0)\n",
    "\n",
    "var_qt = ['euribor3m']\n",
    "qt = QuantileTransformer(output_distribution='normal')\n",
    "\n",
    "var_ss = ['euribor3m','num_dias_ultimo_contacto','resultado_campana_anterior','variacion_tasa_empleo']\n",
    "ss = StandardScaler()"
   ]
  },
  {
   "cell_type": "markdown",
   "id": "eaf3f141",
   "metadata": {},
   "source": [
    "### Crear el pipe del preprocesamiento"
   ]
  },
  {
   "cell_type": "markdown",
   "id": "8d7b7821",
   "metadata": {},
   "source": [
    "#### Crear el column transformer"
   ]
  },
  {
   "cell_type": "code",
   "execution_count": 39,
   "id": "e577b34d",
   "metadata": {},
   "outputs": [],
   "source": [
    "ct = make_column_transformer(\n",
    "    (oe, var_oe),\n",
    "    (disc_ds, var_disc_ds),\n",
    "    (bin, var_bin),\n",
    "    (qt, var_qt),\n",
    "    remainder='drop')"
   ]
  },
  {
   "cell_type": "markdown",
   "id": "5de30e37",
   "metadata": {},
   "source": [
    "#### Crear el pipeline del preprocesamiento"
   ]
  },
  {
   "cell_type": "code",
   "execution_count": 65,
   "id": "54e1300d",
   "metadata": {},
   "outputs": [],
   "source": [
    "pipe_prepro = make_pipeline(hacer_calidad_datos)"
   ]
  },
  {
   "cell_type": "markdown",
   "id": "d4b08601",
   "metadata": {},
   "source": [
    "### Instanciar el modelo"
   ]
  },
  {
   "cell_type": "markdown",
   "id": "b64c9e60",
   "metadata": {},
   "source": [
    "#### Instanciar el algoritmo"
   ]
  },
  {
   "cell_type": "code",
   "execution_count": 66,
   "id": "8b2e752d",
   "metadata": {},
   "outputs": [],
   "source": [
    "modelo = XGBClassifier(base_score=0.5, booster='gbtree',\n",
    "                               colsample_bylevel=1, colsample_bynode=1,\n",
    "                               colsample_bytree=1, enable_categorical=False,\n",
    "                               gamma=0, gpu_id=-1, importance_type=None,\n",
    "                               interaction_constraints='', learning_rate=0.1,\n",
    "                               max_delta_step=0, max_depth=10,\n",
    "                               min_child_weight=1, missing=np.nan,\n",
    "                               monotone_constraints='()', n_estimators=500,\n",
    "                               n_jobs=-1, num_parallel_tree=1, predictor='auto',\n",
    "                               random_state=0, reg_alpha=0.5, reg_lambda=1,\n",
    "                               scale_pos_weight=1, subsample=1,\n",
    "                               tree_method='exact', validate_parameters=1,\n",
    "                               verbosity=0)"
   ]
  },
  {
   "cell_type": "markdown",
   "id": "80f8e2f3",
   "metadata": {},
   "source": [
    "#### Crear el pipe final de entrenamiento"
   ]
  },
  {
   "cell_type": "code",
   "execution_count": 67,
   "id": "0efb038b",
   "metadata": {},
   "outputs": [],
   "source": [
    "pipe_entrenamiento = make_pipeline(pipe_prepro,modelo)"
   ]
  },
  {
   "cell_type": "markdown",
   "id": "cb0700d8",
   "metadata": {},
   "source": [
    "#### Guardar el pipe final de entrenamiento"
   ]
  },
  {
   "cell_type": "code",
   "execution_count": 68,
   "id": "71715e9c",
   "metadata": {},
   "outputs": [],
   "source": [
    "nombre_pipe_entrenamiento = 'pipe_entrenamiento.pickle'\n",
    "\n",
    "ruta_pipe_entrenamiento = ruta_proyecto + '/04_Modelos/' + nombre_pipe_entrenamiento\n",
    "\n",
    "with open(ruta_pipe_entrenamiento, mode='wb') as file:\n",
    "   cloudpickle.dump(pipe_entrenamiento, file)"
   ]
  },
  {
   "cell_type": "markdown",
   "id": "2c7e5ed1",
   "metadata": {},
   "source": [
    "#### Entrenar el pipe final de ejecución"
   ]
  },
  {
   "cell_type": "code",
   "execution_count": 69,
   "id": "13ca2db6",
   "metadata": {},
   "outputs": [
    {
     "name": "stderr",
     "output_type": "stream",
     "text": [
      "C:\\Users\\Ricardo\\miniconda3\\envs\\heart\\lib\\site-packages\\xgboost\\sklearn.py:1224: UserWarning: The use of label encoder in XGBClassifier is deprecated and will be removed in a future release. To remove this warning, do the following: 1) Pass option use_label_encoder=False when constructing XGBClassifier object; and 2) Encode your labels (y) as integers starting with 0, i.e. 0, 1, 2, ..., [num_class - 1].\n",
      "  warnings.warn(label_encoder_deprecation_msg, UserWarning)\n",
      "C:\\Users\\Ricardo\\miniconda3\\envs\\heart\\lib\\site-packages\\xgboost\\data.py:250: FutureWarning: pandas.Int64Index is deprecated and will be removed from pandas in a future version. Use pandas.Index with the appropriate dtype instead.\n",
      "  elif isinstance(data.columns, (pd.Int64Index, pd.RangeIndex)):\n"
     ]
    }
   ],
   "source": [
    "pipe_ejecucion = pipe_entrenamiento.fit(x,y)"
   ]
  },
  {
   "cell_type": "markdown",
   "id": "52e506db",
   "metadata": {},
   "source": [
    "## GUARDAR EL PIPE"
   ]
  },
  {
   "cell_type": "markdown",
   "id": "86a5de63",
   "metadata": {},
   "source": [
    "### Nombre del pipe final de ejecución"
   ]
  },
  {
   "cell_type": "code",
   "execution_count": 70,
   "id": "967c6480",
   "metadata": {},
   "outputs": [],
   "source": [
    "nombre_pipe_ejecucion = 'pipe_ejecucion.pickle'"
   ]
  },
  {
   "cell_type": "markdown",
   "id": "afba8bc8",
   "metadata": {},
   "source": [
    "### Guardar el pipe final de ejecución"
   ]
  },
  {
   "cell_type": "code",
   "execution_count": 71,
   "id": "1dda8f25",
   "metadata": {},
   "outputs": [],
   "source": [
    "ruta_pipe_ejecucion = ruta_proyecto + '/04_Modelos/' + nombre_pipe_ejecucion\n",
    "\n",
    "with open(ruta_pipe_ejecucion, mode='wb') as file:\n",
    "   cloudpickle.dump(pipe_ejecucion, file)"
   ]
  },
  {
   "cell_type": "markdown",
   "id": "c7f65e25",
   "metadata": {
    "jp-MarkdownHeadingCollapsed": true
   },
   "source": [
    "# 💿 CODIGO DE RE-ENTRENAMIENTO"
   ]
  },
  {
   "cell_type": "markdown",
   "id": "73a0f588",
   "metadata": {},
   "source": [
    "*NOTA: Para poder usar este código de entrenamiento hay que lanzarlo desde exactamente el mismo entorno en el que fue creado.*\n",
    "\n",
    "*Se puede instalar ese entorno en la nueva máquina usando el environment.yml que creamos en el set up del proyecto*"
   ]
  },
  {
   "cell_type": "code",
   "execution_count": 1,
   "id": "7f83b149",
   "metadata": {},
   "outputs": [
    {
     "name": "stderr",
     "output_type": "stream",
     "text": [
      "C:\\Users\\isaac\\miniconda3\\envs\\proyecto1\\lib\\site-packages\\xgboost\\sklearn.py:1224: UserWarning: The use of label encoder in XGBClassifier is deprecated and will be removed in a future release. To remove this warning, do the following: 1) Pass option use_label_encoder=False when constructing XGBClassifier object; and 2) Encode your labels (y) as integers starting with 0, i.e. 0, 1, 2, ..., [num_class - 1].\n",
      "  warnings.warn(label_encoder_deprecation_msg, UserWarning)\n"
     ]
    }
   ],
   "source": [
    "import numpy as np\n",
    "import pandas as pd\n",
    "import cloudpickle\n",
    "\n",
    "from janitor import clean_names\n",
    "\n",
    "from sklearn.preprocessing import OrdinalEncoder\n",
    "from sklearn.preprocessing import KBinsDiscretizer\n",
    "from sklearn.preprocessing import Binarizer\n",
    "from sklearn.preprocessing import QuantileTransformer\n",
    "from sklearn.preprocessing import StandardScaler\n",
    "\n",
    "from xgboost import XGBClassifier\n",
    "\n",
    "from sklearn.pipeline import Pipeline\n",
    "from sklearn.preprocessing import FunctionTransformer\n",
    "from sklearn.compose import make_column_transformer\n",
    "from sklearn.pipeline import make_pipeline\n",
    "\n",
    "\n",
    "ruta_proyecto = 'C:/Users/Ricardo/Desktop/Portfolio/heart'\n",
    "\n",
    "nombre_fichero_datos = 'heart.csv'\n",
    "\n",
    "ruta_completa = ruta_proyecto + '/02_Datos/01_Originales/' + nombre_fichero_datos\n",
    "\n",
    "df = pd.read_csv(ruta_completa)#,index_col=0)\n",
    "\n",
    "df = clean_names(df) \\\n",
    "             .drop_duplicates() \\\n",
    "             .dropna(thresh=3)\n",
    "\n",
    "df.rename(columns = {'cp':'chess_pain'\n",
    "                    ,'trtbps':'blood_pressure'\n",
    "                    ,'chol':'cholestoral'\n",
    "                    ,'fbs':'fasting_blood_sugar'\n",
    "                    ,'restecg':'electro_results'\n",
    "                    ,'thalachh':'maximum_heart_rate'\n",
    "                    ,'exng':'angina_induced'\n",
    "                    ,'caa':'number_major_vessels'\n",
    "                    }, inplace=True)\n",
    "                     \n",
    "variables_finales = ['age',\n",
    " 'chess_pain',\n",
    " 'cholestoral',\n",
    " 'maximum_heart_rate',\n",
    " 'number_major_vessels',\n",
    " 'oldpeak',\n",
    " 'sex',\n",
    " 'thall']\n",
    "\n",
    "target = 'output'\n",
    "\n",
    "x = df[variables_finales].copy()\n",
    "\n",
    "y = df[target].copy()\n",
    "\n",
    "nombre_pipe_entrenamiento = 'pipe_entrenamiento.pickle'\n",
    "\n",
    "ruta_pipe_entrenamiento = ruta_proyecto + '/04_Modelos/' + nombre_pipe_entrenamiento\n",
    "\n",
    "with open(ruta_pipe_entrenamiento, mode='rb') as file:\n",
    "   pipe_entrenamiento = cloudpickle.load(file)\n",
    "\n",
    "pipe_ejecucion = pipe_entrenamiento.fit(x,y)\n",
    "\n",
    "nombre_pipe_ejecucion = 'pipe_ejecucion.pickle'\n",
    "\n",
    "ruta_pipe_ejecucion = ruta_proyecto + '/04_Modelos/' + nombre_pipe_ejecucion\n",
    "\n",
    "with open(ruta_pipe_ejecucion, mode='wb') as file:\n",
    "   cloudpickle.dump(pipe_ejecucion, file)"
   ]
  },
  {
   "cell_type": "code",
   "execution_count": null,
   "id": "a346ed6c",
   "metadata": {},
   "outputs": [],
   "source": []
  },
  {
   "cell_type": "markdown",
   "id": "b0fd27b6",
   "metadata": {
    "jp-MarkdownHeadingCollapsed": true
   },
   "source": [
    "# 📀 CODIGO DE EJECUCION"
   ]
  },
  {
   "cell_type": "markdown",
   "id": "00a75d46",
   "metadata": {},
   "source": [
    "*NOTA: Para poder usar este código de ejecución hay que lanzarlo desde exactamente el mismo entorno en el que fue creado.*\n",
    "\n",
    "*Se puede instalar ese entorno en la nueva máquina usando el environment.yml que creamos en el set up del proyecto*"
   ]
  },
  {
   "cell_type": "code",
   "execution_count": 1,
   "id": "942b44f8",
   "metadata": {},
   "outputs": [
    {
     "name": "stderr",
     "output_type": "stream",
     "text": [
      "C:\\Users\\Ricardo\\miniconda3\\envs\\heart\\lib\\site-packages\\xgboost\\compat.py:36: FutureWarning: pandas.Int64Index is deprecated and will be removed from pandas in a future version. Use pandas.Index with the appropriate dtype instead.\n",
      "  from pandas import MultiIndex, Int64Index\n"
     ]
    }
   ],
   "source": [
    "import cloudpickle\n",
    "import pandas as pd\n",
    "import numpy as np\n",
    "from janitor import clean_names\n",
    "\n",
    "ruta_proyecto = 'C:/Users/Ricardo/Desktop/Portfolio/heart'\n",
    "\n",
    "nombre_fichero_datos = 'validacion.csv' #Representa el nuevo fichero sobre el que aplicar el modelo.\n",
    "\n",
    "ruta_completa = ruta_proyecto + '/02_Datos/02_Validacion/' + nombre_fichero_datos\n",
    "\n",
    "df = pd.read_csv(ruta_completa,index_col=0)\n",
    "\n",
    "df = clean_names(df) \\\n",
    "             .drop_duplicates() \\\n",
    "             .dropna(thresh=3)\n",
    "\n",
    "df.rename(columns = {'cp':'chess_pain'\n",
    "                    ,'trtbps':'blood_pressure'\n",
    "                    ,'chol':'cholestoral'\n",
    "                    ,'fbs':'fasting_blood_sugar'\n",
    "                    ,'restecg':'electro_results'\n",
    "                    ,'thalachh':'maximum_heart_rate'\n",
    "                    ,'exng':'angina_induced'\n",
    "                    ,'caa':'number_major_vessels'\n",
    "                    }, inplace=True)\n",
    "                     \n",
    "variables_finales = ['age',\n",
    " 'chess_pain',\n",
    " 'cholestoral',\n",
    " 'maximum_heart_rate',\n",
    " 'number_major_vessels',\n",
    " 'oldpeak',\n",
    " 'sex',\n",
    " 'thall']\n",
    "                     \n",
    "df = df[variables_finales]\n",
    "\n",
    "nombre_pipe_ejecucion = 'pipe_ejecucion.pickle'\n",
    "\n",
    "ruta_pipe_ejecucion = ruta_proyecto + '/04_Modelos/' + nombre_pipe_ejecucion\n",
    "\n",
    "with open(ruta_pipe_ejecucion, mode='rb') as file:\n",
    "   pipe_ejecucion = cloudpickle.load(file)\n",
    "\n",
    "scoring = pipe_ejecucion.predict_proba(df)[:, 1]"
   ]
  },
  {
   "cell_type": "code",
   "execution_count": 2,
   "id": "31f18eaa-d250-4ecd-9df9-07efca61e5cb",
   "metadata": {},
   "outputs": [
    {
     "data": {
      "text/plain": [
       "array([0.08538868, 0.01882226, 0.9937995 , 0.9975122 , 0.9959559 ,\n",
       "       0.04360182, 0.04189958, 0.97925603, 0.00868857, 0.00390747,\n",
       "       0.9786274 , 0.9834289 , 0.924594  , 0.12149399, 0.9986419 ,\n",
       "       0.02134511, 0.99952066, 0.9275386 , 0.99946374, 0.02311122,\n",
       "       0.98523   , 0.00128078, 0.9908632 , 0.98619115, 0.9960265 ,\n",
       "       0.99728334, 0.00245758, 0.98518884, 0.10852746, 0.8549887 ,\n",
       "       0.9817467 , 0.08232491, 0.02521476, 0.995918  , 0.95075375,\n",
       "       0.9036062 , 0.06868089, 0.16149484, 0.8728781 , 0.01176542,\n",
       "       0.9980716 , 0.98373276, 0.99115515, 0.00143289, 0.92548364,\n",
       "       0.00384162, 0.01106384, 0.984054  , 0.9984724 , 0.955506  ,\n",
       "       0.9910965 , 0.98166937, 0.099915  , 0.15561698, 0.74313515,\n",
       "       0.9791861 , 0.98955053, 0.9967359 , 0.19182393, 0.00227173,\n",
       "       0.00633892, 0.03150801, 0.9839162 , 0.06125381, 0.9392299 ,\n",
       "       0.71580416, 0.95224965, 0.87829566, 0.96790576, 0.19803788,\n",
       "       0.00158273, 0.9800135 , 0.996478  , 0.16529255, 0.00882841,\n",
       "       0.91800743, 0.99683577, 0.06081726, 0.99475986, 0.00291617,\n",
       "       0.00586056, 0.98360544, 0.00222557, 0.81035644, 0.00455381,\n",
       "       0.1615436 , 0.0574204 , 0.01923408, 0.059611  , 0.96355003,\n",
       "       0.00614673], dtype=float32)"
      ]
     },
     "execution_count": 2,
     "metadata": {},
     "output_type": "execute_result"
    }
   ],
   "source": [
    "scoring"
   ]
  },
  {
   "cell_type": "code",
   "execution_count": null,
   "id": "5f23a8f4-a7ce-41c8-be2f-1b7f0b4df800",
   "metadata": {},
   "outputs": [],
   "source": [
    "#estos serían los scoring para cada uno de esos nuevos datos."
   ]
  }
 ],
 "metadata": {
  "kernelspec": {
   "display_name": "Python 3 (ipykernel)",
   "language": "python",
   "name": "python3"
  },
  "language_info": {
   "codemirror_mode": {
    "name": "ipython",
    "version": 3
   },
   "file_extension": ".py",
   "mimetype": "text/x-python",
   "name": "python",
   "nbconvert_exporter": "python",
   "pygments_lexer": "ipython3",
   "version": "3.11.5"
  },
  "toc": {
   "base_numbering": 1,
   "nav_menu": {},
   "number_sections": true,
   "sideBar": true,
   "skip_h1_title": false,
   "title_cell": "Table of Contents",
   "title_sidebar": "Contents",
   "toc_cell": false,
   "toc_position": {
    "height": "calc(100% - 180px)",
    "left": "10px",
    "top": "150px",
    "width": "208.9px"
   },
   "toc_section_display": true,
   "toc_window_display": true
  },
  "varInspector": {
   "cols": {
    "lenName": 16,
    "lenType": 16,
    "lenVar": 40
   },
   "kernels_config": {
    "python": {
     "delete_cmd_postfix": "",
     "delete_cmd_prefix": "del ",
     "library": "var_list.py",
     "varRefreshCmd": "print(var_dic_list())"
    },
    "r": {
     "delete_cmd_postfix": ") ",
     "delete_cmd_prefix": "rm(",
     "library": "var_list.r",
     "varRefreshCmd": "cat(var_dic_list()) "
    }
   },
   "types_to_exclude": [
    "module",
    "function",
    "builtin_function_or_method",
    "instance",
    "_Feature"
   ],
   "window_display": false
  }
 },
 "nbformat": 4,
 "nbformat_minor": 5
}
